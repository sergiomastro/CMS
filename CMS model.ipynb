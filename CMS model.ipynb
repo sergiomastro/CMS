{
 "cells": [
  {
   "cell_type": "markdown",
   "metadata": {},
   "source": [
    "# CMS Open Payments analysis"
   ]
  },
  {
   "cell_type": "markdown",
   "metadata": {},
   "source": [
    "<p><a name=\"sections\"></a></p>\n",
    "\n",
    "\n",
    "## Sections\n",
    "\n",
    "- <a href=\"#import\">Import data and Python packages</a><br>\n",
    "- <a href=\"#cleaning\">Assess Data Quality & Missing Values</a><br>\n",
    "- <a href=\"#exploratory\">Exploratory Data Analysis</a><br>\n",
    "- <a href=\"#prediction\">Prediction and Results</a><br>"
   ]
  },
  {
   "cell_type": "markdown",
   "metadata": {},
   "source": [
    "<p><a name=\"import\"></a></p>\n",
    "\n",
    "## <i>1. Import data and Python packages</i>"
   ]
  },
  {
   "cell_type": "code",
   "execution_count": 194,
   "metadata": {},
   "outputs": [],
   "source": [
    "#Import all the necessary packages for data analysis \n",
    "\n",
    "import pandas as pd\n",
    "import numpy as np\n",
    "\n",
    "import sklearn\n",
    "from sklearn import model_selection, linear_model\n",
    "from sklearn import feature_selection\n",
    "from sklearn.metrics import classification_report\n",
    "from sklearn.metrics import accuracy_score\n",
    "from sklearn.metrics import mean_squared_error\n",
    "from sklearn.ensemble import RandomForestClassifier\n",
    "from sklearn.linear_model import LogisticRegression\n",
    "from sklearn.metrics import confusion_matrix\n",
    "from sklearn.svm import SVC\n",
    "from sklearn.tree import DecisionTreeRegressor\n",
    "\n",
    "import matplotlib.pyplot as plt\n",
    "import seaborn as sns\n",
    "%matplotlib inline\n",
    "\n",
    "import math\n",
    "\n",
    "\n",
    "from sklearn.datasets import make_classification\n",
    "from sklearn.metrics import roc_curve\n",
    "from sklearn.metrics import roc_auc_score"
   ]
  },
  {
   "cell_type": "code",
   "execution_count": 195,
   "metadata": {},
   "outputs": [],
   "source": [
    "#Import datasets\n",
    "\n",
    "general = pd.read_csv('data/OP_DTL_GNRL_PGYR2017_P06282019.csv',low_memory=False)\n",
    "#general = pd.read_csv('data/OP_DTL_GNRL_Sample.csv',low_memory=False)\n",
    "\n",
    "research = pd.read_csv('data/OP_DTL_RSRCH_PGYR2017_P06282019.csv',low_memory=False)\n",
    "ownership = pd.read_csv('data/OP_DTL_OWNRSHP_PGYR2017_P06282019.csv',low_memory=False)\n",
    "removed = pd.read_csv('data/OP_REMOVED_DELETED_PGYR2017_P06282019.csv',low_memory=False)"
   ]
  },
  {
   "cell_type": "code",
   "execution_count": 196,
   "metadata": {},
   "outputs": [],
   "source": [
    "#Flag research records\n",
    "\n",
    "general['Research']=0.0\n",
    "research['Research']=1.0\n",
    "ownership['Research']=0.0\n",
    "removed['Research']=0.0"
   ]
  },
  {
   "cell_type": "code",
   "execution_count": 197,
   "metadata": {},
   "outputs": [
    {
     "name": "stdout",
     "output_type": "stream",
     "text": [
      "(112398, 76)\n",
      "(653488, 177)\n",
      "(2840, 30)\n",
      "(95583, 5)\n"
     ]
    }
   ],
   "source": [
    "print(general.shape)\n",
    "print(research.shape)\n",
    "print(ownership.shape)\n",
    "print(removed.shape)"
   ]
  },
  {
   "cell_type": "code",
   "execution_count": 198,
   "metadata": {},
   "outputs": [],
   "source": [
    "#Remove null records\n",
    "\n",
    "general.dropna(how='all', inplace=True)\n",
    "research.dropna(how='all', inplace=True)\n",
    "ownership.dropna(how='all', inplace=True)\n",
    "removed.dropna(how='all', inplace=True)"
   ]
  },
  {
   "cell_type": "code",
   "execution_count": 199,
   "metadata": {},
   "outputs": [
    {
     "name": "stdout",
     "output_type": "stream",
     "text": [
      "<class 'pandas.core.frame.DataFrame'>\n",
      "Int64Index: 112398 entries, 0 to 112397\n",
      "Data columns (total 76 columns):\n",
      "Change_Type                                                          112398 non-null object\n",
      "Covered_Recipient_Type                                               112398 non-null object\n",
      "Teaching_Hospital_CCN                                                415 non-null float64\n",
      "Teaching_Hospital_ID                                                 415 non-null float64\n",
      "Teaching_Hospital_Name                                               415 non-null object\n",
      "Physician_Profile_ID                                                 111983 non-null float64\n",
      "Physician_First_Name                                                 111981 non-null object\n",
      "Physician_Middle_Name                                                66305 non-null object\n",
      "Physician_Last_Name                                                  111980 non-null object\n",
      "Physician_Name_Suffix                                                2998 non-null object\n",
      "Recipient_Primary_Business_Street_Address_Line1                      112398 non-null object\n",
      "Recipient_Primary_Business_Street_Address_Line2                      40246 non-null object\n",
      "Recipient_City                                                       112398 non-null object\n",
      "Recipient_State                                                      112393 non-null object\n",
      "Recipient_Zip_Code                                                   112393 non-null object\n",
      "Recipient_Country                                                    112398 non-null object\n",
      "Recipient_Province                                                   2 non-null object\n",
      "Recipient_Postal_Code                                                5 non-null object\n",
      "Physician_Primary_Type                                               111983 non-null object\n",
      "Physician_Specialty                                                  111841 non-null object\n",
      "Physician_License_State_code1                                        111983 non-null object\n",
      "Physician_License_State_code2                                        2260 non-null object\n",
      "Physician_License_State_code3                                        514 non-null object\n",
      "Physician_License_State_code4                                        77 non-null object\n",
      "Physician_License_State_code5                                        19 non-null object\n",
      "Submitting_Applicable_Manufacturer_or_Applicable_GPO_Name            112398 non-null object\n",
      "Applicable_Manufacturer_or_Applicable_GPO_Making_Payment_ID          112398 non-null int64\n",
      "Applicable_Manufacturer_or_Applicable_GPO_Making_Payment_Name        112398 non-null object\n",
      "Applicable_Manufacturer_or_Applicable_GPO_Making_Payment_State       111410 non-null object\n",
      "Applicable_Manufacturer_or_Applicable_GPO_Making_Payment_Country     112398 non-null object\n",
      "Total_Amount_of_Payment_USDollars                                    112398 non-null float64\n",
      "Date_of_Payment                                                      112398 non-null object\n",
      "Number_of_Payments_Included_in_Total_Amount                          112398 non-null int64\n",
      "Form_of_Payment_or_Transfer_of_Value                                 112398 non-null object\n",
      "Nature_of_Payment_or_Transfer_of_Value                               112398 non-null object\n",
      "City_of_Travel                                                       5856 non-null object\n",
      "State_of_Travel                                                      5647 non-null object\n",
      "Country_of_Travel                                                    5856 non-null object\n",
      "Physician_Ownership_Indicator                                        111983 non-null object\n",
      "Third_Party_Payment_Recipient_Indicator                              112398 non-null object\n",
      "Name_of_Third_Party_Entity_Receiving_Payment_or_Transfer_of_Value    1115 non-null object\n",
      "Charity_Indicator                                                    63604 non-null object\n",
      "Third_Party_Equals_Covered_Recipient_Indicator                       1545 non-null object\n",
      "Contextual_Information                                               15208 non-null object\n",
      "Delay_in_Publication_Indicator                                       112398 non-null object\n",
      "Record_ID                                                            112398 non-null int64\n",
      "Dispute_Status_for_Publication                                       112398 non-null object\n",
      "Related_Product_Indicator                                            112398 non-null object\n",
      "Covered_or_Noncovered_Indicator_1                                    106951 non-null object\n",
      "Indicate_Drug_or_Biological_or_Device_or_Medical_Supply_1            104729 non-null object\n",
      "Product_Category_or_Therapeutic_Area_1                               104383 non-null object\n",
      "Name_of_Drug_or_Biological_or_Device_or_Medical_Supply_1             104475 non-null object\n",
      "Associated_Drug_or_Biological_NDC_1                                  82148 non-null object\n",
      "Covered_or_Noncovered_Indicator_2                                    25168 non-null object\n",
      "Indicate_Drug_or_Biological_or_Device_or_Medical_Supply_2            24692 non-null object\n",
      "Product_Category_or_Therapeutic_Area_2                               24650 non-null object\n",
      "Name_of_Drug_or_Biological_or_Device_or_Medical_Supply_2             24695 non-null object\n",
      "Associated_Drug_or_Biological_NDC_2                                  21906 non-null object\n",
      "Covered_or_Noncovered_Indicator_3                                    9495 non-null object\n",
      "Indicate_Drug_or_Biological_or_Device_or_Medical_Supply_3            9287 non-null object\n",
      "Product_Category_or_Therapeutic_Area_3                               9254 non-null object\n",
      "Name_of_Drug_or_Biological_or_Device_or_Medical_Supply_3             9296 non-null object\n",
      "Associated_Drug_or_Biological_NDC_3                                  7788 non-null object\n",
      "Covered_or_Noncovered_Indicator_4                                    2682 non-null object\n",
      "Indicate_Drug_or_Biological_or_Device_or_Medical_Supply_4            2647 non-null object\n",
      "Product_Category_or_Therapeutic_Area_4                               2625 non-null object\n",
      "Name_of_Drug_or_Biological_or_Device_or_Medical_Supply_4             2659 non-null object\n",
      "Associated_Drug_or_Biological_NDC_4                                  1920 non-null object\n",
      "Covered_or_Noncovered_Indicator_5                                    770 non-null object\n",
      "Indicate_Drug_or_Biological_or_Device_or_Medical_Supply_5            751 non-null object\n",
      "Product_Category_or_Therapeutic_Area_5                               733 non-null object\n",
      "Name_of_Drug_or_Biological_or_Device_or_Medical_Supply_5             758 non-null object\n",
      "Associated_Drug_or_Biological_NDC_5                                  276 non-null object\n",
      "Program_Year                                                         112398 non-null int64\n",
      "Payment_Publication_Date                                             112398 non-null object\n",
      "Research                                                             112398 non-null float64\n",
      "dtypes: float64(5), int64(4), object(67)\n",
      "memory usage: 66.0+ MB\n",
      "<class 'pandas.core.frame.DataFrame'>\n",
      "Int64Index: 653488 entries, 0 to 653487\n",
      "Columns: 177 entries, Change_Type to Research\n",
      "dtypes: float64(35), int64(3), object(139)\n",
      "memory usage: 887.5+ MB\n",
      "<class 'pandas.core.frame.DataFrame'>\n",
      "Int64Index: 2840 entries, 0 to 2839\n",
      "Data columns (total 30 columns):\n",
      "Change_Type                                                         2840 non-null object\n",
      "Physician_Profile_ID                                                2840 non-null int64\n",
      "Physician_First_Name                                                2840 non-null object\n",
      "Physician_Middle_Name                                               1079 non-null object\n",
      "Physician_Last_Name                                                 2840 non-null object\n",
      "Physician_Name_Suffix                                               529 non-null object\n",
      "Recipient_Primary_Business_Street_Address_Line1                     2840 non-null object\n",
      "Recipient_Primary_Business_Street_Address_Line2                     895 non-null object\n",
      "Recipient_City                                                      2840 non-null object\n",
      "Recipient_State                                                     2840 non-null object\n",
      "Recipient_Zip_Code                                                  2840 non-null object\n",
      "Recipient_Country                                                   2840 non-null object\n",
      "Recipient_Province                                                  0 non-null float64\n",
      "Recipient_Postal_Code                                               0 non-null float64\n",
      "Physician_Primary_Type                                              2840 non-null object\n",
      "Physician_Specialty                                                 2678 non-null object\n",
      "Record_ID                                                           2840 non-null int64\n",
      "Program_Year                                                        2840 non-null int64\n",
      "Total_Amount_Invested_USDollars                                     2840 non-null float64\n",
      "Value_of_Interest                                                   2840 non-null float64\n",
      "Terms_of_Interest                                                   2828 non-null object\n",
      "Submitting_Applicable_Manufacturer_or_Applicable_GPO_Name           2840 non-null object\n",
      "Applicable_Manufacturer_or_Applicable_GPO_Making_Payment_ID         2840 non-null int64\n",
      "Applicable_Manufacturer_or_Applicable_GPO_Making_Payment_Name       2840 non-null object\n",
      "Applicable_Manufacturer_or_Applicable_GPO_Making_Payment_State      2827 non-null object\n",
      "Applicable_Manufacturer_or_Applicable_GPO_Making_Payment_Country    2840 non-null object\n",
      "Dispute_Status_for_Publication                                      2840 non-null object\n",
      "Interest_Held_by_Physician_or_an_Immediate_Family_Member            2840 non-null object\n",
      "Payment_Publication_Date                                            2840 non-null object\n",
      "Research                                                            2840 non-null float64\n",
      "dtypes: float64(5), int64(4), object(21)\n",
      "memory usage: 687.8+ KB\n",
      "<class 'pandas.core.frame.DataFrame'>\n",
      "Int64Index: 95583 entries, 0 to 95582\n",
      "Data columns (total 5 columns):\n",
      "Change_Type     95583 non-null object\n",
      "Program_Year    95583 non-null int64\n",
      "Payment_Type    95583 non-null object\n",
      "Record_ID       95583 non-null int64\n",
      "Research        95583 non-null float64\n",
      "dtypes: float64(1), int64(2), object(2)\n",
      "memory usage: 4.4+ MB\n"
     ]
    }
   ],
   "source": [
    "general.info()\n",
    "research.info()\n",
    "ownership.info()\n",
    "removed.info()"
   ]
  },
  {
   "cell_type": "code",
   "execution_count": 200,
   "metadata": {},
   "outputs": [],
   "source": [
    "#Remove Ownership and Removed datasets (statistically insignificant)\n",
    "#Reduce the number of attributes (columns) \n",
    "\n",
    "general_data=general[['Record_ID','Teaching_Hospital_Name','Physician_First_Name','Physician_Last_Name','Physician_Primary_Type','Recipient_State','Recipient_Zip_Code','Recipient_Country','Physician_Primary_Type','Physician_Specialty','Applicable_Manufacturer_or_Applicable_GPO_Making_Payment_Name','Total_Amount_of_Payment_USDollars','Covered_Recipient_Type','Research']]\n",
    "research_data=research[['Record_ID','Teaching_Hospital_Name','Physician_First_Name','Physician_Last_Name','Physician_Primary_Type','Recipient_State','Recipient_Zip_Code','Recipient_Country','Physician_Primary_Type','Physician_Specialty','Applicable_Manufacturer_or_Applicable_GPO_Making_Payment_Name','Total_Amount_of_Payment_USDollars','Covered_Recipient_Type','Research']]"
   ]
  },
  {
   "cell_type": "code",
   "execution_count": 201,
   "metadata": {
    "scrolled": true
   },
   "outputs": [
    {
     "name": "stdout",
     "output_type": "stream",
     "text": [
      "(112398, 14)\n",
      "(653488, 14)\n"
     ]
    }
   ],
   "source": [
    "print(general_data.shape)\n",
    "print(research_data.shape)"
   ]
  },
  {
   "cell_type": "code",
   "execution_count": 202,
   "metadata": {
    "scrolled": true
   },
   "outputs": [
    {
     "data": {
      "text/html": [
       "<div>\n",
       "<style scoped>\n",
       "    .dataframe tbody tr th:only-of-type {\n",
       "        vertical-align: middle;\n",
       "    }\n",
       "\n",
       "    .dataframe tbody tr th {\n",
       "        vertical-align: top;\n",
       "    }\n",
       "\n",
       "    .dataframe thead th {\n",
       "        text-align: right;\n",
       "    }\n",
       "</style>\n",
       "<table border=\"1\" class=\"dataframe\">\n",
       "  <thead>\n",
       "    <tr style=\"text-align: right;\">\n",
       "      <th></th>\n",
       "      <th>Record_ID</th>\n",
       "      <th>Teaching_Hospital_Name</th>\n",
       "      <th>Physician_First_Name</th>\n",
       "      <th>Physician_Last_Name</th>\n",
       "      <th>Physician_Primary_Type</th>\n",
       "      <th>Recipient_State</th>\n",
       "      <th>Recipient_Zip_Code</th>\n",
       "      <th>Recipient_Country</th>\n",
       "      <th>Physician_Primary_Type</th>\n",
       "      <th>Physician_Specialty</th>\n",
       "      <th>Applicable_Manufacturer_or_Applicable_GPO_Making_Payment_Name</th>\n",
       "      <th>Total_Amount_of_Payment_USDollars</th>\n",
       "      <th>Covered_Recipient_Type</th>\n",
       "      <th>Research</th>\n",
       "    </tr>\n",
       "  </thead>\n",
       "  <tbody>\n",
       "    <tr>\n",
       "      <th>0</th>\n",
       "      <td>422181493</td>\n",
       "      <td>NaN</td>\n",
       "      <td>MARK</td>\n",
       "      <td>GINSBURG</td>\n",
       "      <td>Doctor of Osteopathy</td>\n",
       "      <td>PA</td>\n",
       "      <td>19013</td>\n",
       "      <td>United States</td>\n",
       "      <td>Doctor of Osteopathy</td>\n",
       "      <td>Allopathic &amp; Osteopathic Physicians|Otolaryngo...</td>\n",
       "      <td>Bovie Medical Corporation</td>\n",
       "      <td>22.43</td>\n",
       "      <td>Covered Recipient Physician</td>\n",
       "      <td>0.0</td>\n",
       "    </tr>\n",
       "    <tr>\n",
       "      <th>1</th>\n",
       "      <td>422181889</td>\n",
       "      <td>NaN</td>\n",
       "      <td>JACK</td>\n",
       "      <td>ZAMORA</td>\n",
       "      <td>Medical Doctor</td>\n",
       "      <td>CO</td>\n",
       "      <td>80209</td>\n",
       "      <td>United States</td>\n",
       "      <td>Medical Doctor</td>\n",
       "      <td>Allopathic &amp; Osteopathic Physicians|Ophthalmology</td>\n",
       "      <td>Bovie Medical Corporation</td>\n",
       "      <td>12.60</td>\n",
       "      <td>Covered Recipient Physician</td>\n",
       "      <td>0.0</td>\n",
       "    </tr>\n",
       "    <tr>\n",
       "      <th>2</th>\n",
       "      <td>423116325</td>\n",
       "      <td>NaN</td>\n",
       "      <td>SANILA</td>\n",
       "      <td>RANA</td>\n",
       "      <td>Medical Doctor</td>\n",
       "      <td>TX</td>\n",
       "      <td>77027-7311</td>\n",
       "      <td>United States</td>\n",
       "      <td>Medical Doctor</td>\n",
       "      <td>Allopathic &amp; Osteopathic Physicians|Internal M...</td>\n",
       "      <td>Mission Pharmacal Company</td>\n",
       "      <td>11.18</td>\n",
       "      <td>Covered Recipient Physician</td>\n",
       "      <td>0.0</td>\n",
       "    </tr>\n",
       "    <tr>\n",
       "      <th>3</th>\n",
       "      <td>423116735</td>\n",
       "      <td>NaN</td>\n",
       "      <td>GARNET</td>\n",
       "      <td>MAHARAJH</td>\n",
       "      <td>Medical Doctor</td>\n",
       "      <td>NC</td>\n",
       "      <td>28110-7767</td>\n",
       "      <td>United States</td>\n",
       "      <td>Medical Doctor</td>\n",
       "      <td>Allopathic &amp; Osteopathic Physicians|Pediatrics</td>\n",
       "      <td>Mission Pharmacal Company</td>\n",
       "      <td>16.64</td>\n",
       "      <td>Covered Recipient Physician</td>\n",
       "      <td>0.0</td>\n",
       "    </tr>\n",
       "    <tr>\n",
       "      <th>4</th>\n",
       "      <td>423115739</td>\n",
       "      <td>NaN</td>\n",
       "      <td>MARY</td>\n",
       "      <td>SCANLON</td>\n",
       "      <td>Medical Doctor</td>\n",
       "      <td>IL</td>\n",
       "      <td>60169-5700</td>\n",
       "      <td>United States</td>\n",
       "      <td>Medical Doctor</td>\n",
       "      <td>Allopathic &amp; Osteopathic Physicians|Obstetrics...</td>\n",
       "      <td>Mission Pharmacal Company</td>\n",
       "      <td>11.67</td>\n",
       "      <td>Covered Recipient Physician</td>\n",
       "      <td>0.0</td>\n",
       "    </tr>\n",
       "  </tbody>\n",
       "</table>\n",
       "</div>"
      ],
      "text/plain": [
       "   Record_ID Teaching_Hospital_Name Physician_First_Name Physician_Last_Name  \\\n",
       "0  422181493                    NaN                 MARK            GINSBURG   \n",
       "1  422181889                    NaN                 JACK              ZAMORA   \n",
       "2  423116325                    NaN               SANILA                RANA   \n",
       "3  423116735                    NaN               GARNET            MAHARAJH   \n",
       "4  423115739                    NaN                 MARY             SCANLON   \n",
       "\n",
       "  Physician_Primary_Type Recipient_State Recipient_Zip_Code Recipient_Country  \\\n",
       "0   Doctor of Osteopathy              PA              19013     United States   \n",
       "1         Medical Doctor              CO              80209     United States   \n",
       "2         Medical Doctor              TX         77027-7311     United States   \n",
       "3         Medical Doctor              NC         28110-7767     United States   \n",
       "4         Medical Doctor              IL         60169-5700     United States   \n",
       "\n",
       "  Physician_Primary_Type                                Physician_Specialty  \\\n",
       "0   Doctor of Osteopathy  Allopathic & Osteopathic Physicians|Otolaryngo...   \n",
       "1         Medical Doctor  Allopathic & Osteopathic Physicians|Ophthalmology   \n",
       "2         Medical Doctor  Allopathic & Osteopathic Physicians|Internal M...   \n",
       "3         Medical Doctor     Allopathic & Osteopathic Physicians|Pediatrics   \n",
       "4         Medical Doctor  Allopathic & Osteopathic Physicians|Obstetrics...   \n",
       "\n",
       "  Applicable_Manufacturer_or_Applicable_GPO_Making_Payment_Name  \\\n",
       "0                          Bovie Medical Corporation              \n",
       "1                          Bovie Medical Corporation              \n",
       "2                          Mission Pharmacal Company              \n",
       "3                          Mission Pharmacal Company              \n",
       "4                          Mission Pharmacal Company              \n",
       "\n",
       "   Total_Amount_of_Payment_USDollars       Covered_Recipient_Type  Research  \n",
       "0                              22.43  Covered Recipient Physician       0.0  \n",
       "1                              12.60  Covered Recipient Physician       0.0  \n",
       "2                              11.18  Covered Recipient Physician       0.0  \n",
       "3                              16.64  Covered Recipient Physician       0.0  \n",
       "4                              11.67  Covered Recipient Physician       0.0  "
      ]
     },
     "execution_count": 202,
     "metadata": {},
     "output_type": "execute_result"
    }
   ],
   "source": [
    "general_data.head()"
   ]
  },
  {
   "cell_type": "code",
   "execution_count": 203,
   "metadata": {},
   "outputs": [
    {
     "data": {
      "text/html": [
       "<div>\n",
       "<style scoped>\n",
       "    .dataframe tbody tr th:only-of-type {\n",
       "        vertical-align: middle;\n",
       "    }\n",
       "\n",
       "    .dataframe tbody tr th {\n",
       "        vertical-align: top;\n",
       "    }\n",
       "\n",
       "    .dataframe thead th {\n",
       "        text-align: right;\n",
       "    }\n",
       "</style>\n",
       "<table border=\"1\" class=\"dataframe\">\n",
       "  <thead>\n",
       "    <tr style=\"text-align: right;\">\n",
       "      <th></th>\n",
       "      <th>Record_ID</th>\n",
       "      <th>Teaching_Hospital_Name</th>\n",
       "      <th>Physician_First_Name</th>\n",
       "      <th>Physician_Last_Name</th>\n",
       "      <th>Physician_Primary_Type</th>\n",
       "      <th>Recipient_State</th>\n",
       "      <th>Recipient_Zip_Code</th>\n",
       "      <th>Recipient_Country</th>\n",
       "      <th>Physician_Primary_Type</th>\n",
       "      <th>Physician_Specialty</th>\n",
       "      <th>Applicable_Manufacturer_or_Applicable_GPO_Making_Payment_Name</th>\n",
       "      <th>Total_Amount_of_Payment_USDollars</th>\n",
       "      <th>Covered_Recipient_Type</th>\n",
       "      <th>Research</th>\n",
       "    </tr>\n",
       "  </thead>\n",
       "  <tbody>\n",
       "    <tr>\n",
       "      <th>0</th>\n",
       "      <td>493381041</td>\n",
       "      <td>GRADY MEMORIAL HOSPITAL</td>\n",
       "      <td>NaN</td>\n",
       "      <td>NaN</td>\n",
       "      <td>NaN</td>\n",
       "      <td>GA</td>\n",
       "      <td>30303</td>\n",
       "      <td>United States</td>\n",
       "      <td>NaN</td>\n",
       "      <td>NaN</td>\n",
       "      <td>Pharmacyclics LLC, An AbbVie Company</td>\n",
       "      <td>50.0</td>\n",
       "      <td>Covered Recipient Teaching Hospital</td>\n",
       "      <td>1.0</td>\n",
       "    </tr>\n",
       "    <tr>\n",
       "      <th>1</th>\n",
       "      <td>455805444</td>\n",
       "      <td>ST. FRANCIS HOSPITAL</td>\n",
       "      <td>NaN</td>\n",
       "      <td>NaN</td>\n",
       "      <td>NaN</td>\n",
       "      <td>WI</td>\n",
       "      <td>53215</td>\n",
       "      <td>United States</td>\n",
       "      <td>NaN</td>\n",
       "      <td>NaN</td>\n",
       "      <td>Biogen, Inc.</td>\n",
       "      <td>5.0</td>\n",
       "      <td>Covered Recipient Teaching Hospital</td>\n",
       "      <td>1.0</td>\n",
       "    </tr>\n",
       "    <tr>\n",
       "      <th>2</th>\n",
       "      <td>501931627</td>\n",
       "      <td>NaN</td>\n",
       "      <td>BERNARD</td>\n",
       "      <td>STULBERG</td>\n",
       "      <td>Medical Doctor</td>\n",
       "      <td>OH</td>\n",
       "      <td>44139-2839</td>\n",
       "      <td>United States</td>\n",
       "      <td>Medical Doctor</td>\n",
       "      <td>Allopathic &amp; Osteopathic Physicians|Orthopaedi...</td>\n",
       "      <td>Corin USA</td>\n",
       "      <td>800.0</td>\n",
       "      <td>Covered Recipient Physician</td>\n",
       "      <td>1.0</td>\n",
       "    </tr>\n",
       "    <tr>\n",
       "      <th>3</th>\n",
       "      <td>501847091</td>\n",
       "      <td>U OF U HOSPITALS &amp; CLINICS</td>\n",
       "      <td>NaN</td>\n",
       "      <td>NaN</td>\n",
       "      <td>NaN</td>\n",
       "      <td>UT</td>\n",
       "      <td>84132</td>\n",
       "      <td>United States</td>\n",
       "      <td>NaN</td>\n",
       "      <td>NaN</td>\n",
       "      <td>Pfizer Inc.</td>\n",
       "      <td>600.0</td>\n",
       "      <td>Covered Recipient Teaching Hospital</td>\n",
       "      <td>1.0</td>\n",
       "    </tr>\n",
       "    <tr>\n",
       "      <th>4</th>\n",
       "      <td>446594329</td>\n",
       "      <td>DANBURY HOSPITAL</td>\n",
       "      <td>NaN</td>\n",
       "      <td>NaN</td>\n",
       "      <td>NaN</td>\n",
       "      <td>CT</td>\n",
       "      <td>06810-6099</td>\n",
       "      <td>United States</td>\n",
       "      <td>NaN</td>\n",
       "      <td>NaN</td>\n",
       "      <td>Boston Scientific Corporation</td>\n",
       "      <td>2652.0</td>\n",
       "      <td>Covered Recipient Teaching Hospital</td>\n",
       "      <td>1.0</td>\n",
       "    </tr>\n",
       "  </tbody>\n",
       "</table>\n",
       "</div>"
      ],
      "text/plain": [
       "   Record_ID      Teaching_Hospital_Name Physician_First_Name  \\\n",
       "0  493381041     GRADY MEMORIAL HOSPITAL                  NaN   \n",
       "1  455805444        ST. FRANCIS HOSPITAL                  NaN   \n",
       "2  501931627                         NaN              BERNARD   \n",
       "3  501847091  U OF U HOSPITALS & CLINICS                  NaN   \n",
       "4  446594329            DANBURY HOSPITAL                  NaN   \n",
       "\n",
       "  Physician_Last_Name Physician_Primary_Type Recipient_State  \\\n",
       "0                 NaN                    NaN              GA   \n",
       "1                 NaN                    NaN              WI   \n",
       "2            STULBERG         Medical Doctor              OH   \n",
       "3                 NaN                    NaN              UT   \n",
       "4                 NaN                    NaN              CT   \n",
       "\n",
       "  Recipient_Zip_Code Recipient_Country Physician_Primary_Type  \\\n",
       "0              30303     United States                    NaN   \n",
       "1              53215     United States                    NaN   \n",
       "2         44139-2839     United States         Medical Doctor   \n",
       "3              84132     United States                    NaN   \n",
       "4         06810-6099     United States                    NaN   \n",
       "\n",
       "                                 Physician_Specialty  \\\n",
       "0                                                NaN   \n",
       "1                                                NaN   \n",
       "2  Allopathic & Osteopathic Physicians|Orthopaedi...   \n",
       "3                                                NaN   \n",
       "4                                                NaN   \n",
       "\n",
       "  Applicable_Manufacturer_or_Applicable_GPO_Making_Payment_Name  \\\n",
       "0               Pharmacyclics LLC, An AbbVie Company              \n",
       "1                                       Biogen, Inc.              \n",
       "2                                          Corin USA              \n",
       "3                                        Pfizer Inc.              \n",
       "4                      Boston Scientific Corporation              \n",
       "\n",
       "   Total_Amount_of_Payment_USDollars               Covered_Recipient_Type  \\\n",
       "0                               50.0  Covered Recipient Teaching Hospital   \n",
       "1                                5.0  Covered Recipient Teaching Hospital   \n",
       "2                              800.0          Covered Recipient Physician   \n",
       "3                              600.0  Covered Recipient Teaching Hospital   \n",
       "4                             2652.0  Covered Recipient Teaching Hospital   \n",
       "\n",
       "   Research  \n",
       "0       1.0  \n",
       "1       1.0  \n",
       "2       1.0  \n",
       "3       1.0  \n",
       "4       1.0  "
      ]
     },
     "execution_count": 203,
     "metadata": {},
     "output_type": "execute_result"
    }
   ],
   "source": [
    "research_data.head()"
   ]
  },
  {
   "cell_type": "code",
   "execution_count": 204,
   "metadata": {},
   "outputs": [
    {
     "name": "stdout",
     "output_type": "stream",
     "text": [
      "(765886, 14)\n"
     ]
    }
   ],
   "source": [
    "#Join datasets\n",
    "\n",
    "total=[general_data,research_data]\n",
    "cms_data=pd.concat(total)\n",
    "print(cms_data.shape)"
   ]
  },
  {
   "cell_type": "markdown",
   "metadata": {},
   "source": [
    "<p><a name=\"cleaning\"></a></p>\n",
    "\n",
    "## <i>2. Assess Data Quality & Missing Values</i>"
   ]
  },
  {
   "cell_type": "code",
   "execution_count": 205,
   "metadata": {},
   "outputs": [
    {
     "data": {
      "text/plain": [
       "Record_ID                                                             0\n",
       "Teaching_Hospital_Name                                           661103\n",
       "Physician_First_Name                                             625101\n",
       "Physician_Last_Name                                              625102\n",
       "Physician_Primary_Type                                           625099\n",
       "Recipient_State                                                    1225\n",
       "Recipient_Zip_Code                                                 1225\n",
       "Recipient_Country                                                   659\n",
       "Physician_Primary_Type                                           625099\n",
       "Physician_Specialty                                              625251\n",
       "Applicable_Manufacturer_or_Applicable_GPO_Making_Payment_Name         0\n",
       "Total_Amount_of_Payment_USDollars                                     0\n",
       "Covered_Recipient_Type                                                0\n",
       "Research                                                              0\n",
       "dtype: int64"
      ]
     },
     "execution_count": 205,
     "metadata": {},
     "output_type": "execute_result"
    }
   ],
   "source": [
    "#Determine the cleaness of the dataset and missing values \n",
    "\n",
    "cms_data.isnull().sum()"
   ]
  },
  {
   "cell_type": "code",
   "execution_count": 206,
   "metadata": {},
   "outputs": [
    {
     "name": "stdout",
     "output_type": "stream",
     "text": [
      "(765886, 14)\n"
     ]
    },
    {
     "data": {
      "text/plain": [
       "Record_ID                                                             0\n",
       "Teaching_Hospital_Name                                           661103\n",
       "Physician_First_Name                                             625101\n",
       "Physician_Last_Name                                              625102\n",
       "Physician_Primary_Type                                                0\n",
       "Recipient_State                                                    1225\n",
       "Recipient_Zip_Code                                                 1225\n",
       "Recipient_Country                                                   659\n",
       "Physician_Primary_Type                                                0\n",
       "Physician_Specialty                                              625251\n",
       "Applicable_Manufacturer_or_Applicable_GPO_Making_Payment_Name         0\n",
       "Total_Amount_of_Payment_USDollars                                     0\n",
       "Covered_Recipient_Type                                                0\n",
       "Research                                                              0\n",
       "dtype: int64"
      ]
     },
     "execution_count": 206,
     "metadata": {},
     "output_type": "execute_result"
    }
   ],
   "source": [
    "#Clean null values on key categorical attributes\n",
    "\n",
    "cms_data['Physician_Primary_Type'] = cms_data['Physician_Primary_Type'].fillna('Not a Physician')\n",
    "print(cms_data.shape)\n",
    "cms_data.isnull().sum()"
   ]
  },
  {
   "cell_type": "markdown",
   "metadata": {},
   "source": [
    "<p><a name=\"exploratory\"></a></p>\n",
    "\n",
    "## <i>3. Exploratory Data Analysis</i>"
   ]
  },
  {
   "cell_type": "markdown",
   "metadata": {},
   "source": [
    "#### 3.1. Sampling and Feature Analysis"
   ]
  },
  {
   "cell_type": "code",
   "execution_count": 207,
   "metadata": {},
   "outputs": [
    {
     "ename": "ValueError",
     "evalue": "Cannot take a larger sample than population when 'replace=False'",
     "output_type": "error",
     "traceback": [
      "\u001b[1;31m---------------------------------------------------------------------------\u001b[0m",
      "\u001b[1;31mValueError\u001b[0m                                Traceback (most recent call last)",
      "\u001b[1;32m<ipython-input-207-b51f25faff64>\u001b[0m in \u001b[0;36m<module>\u001b[1;34m\u001b[0m\n\u001b[0;32m      1\u001b[0m \u001b[1;31m#Sample size=883,282 (95% Confidence)\u001b[0m\u001b[1;33m\u001b[0m\u001b[1;33m\u001b[0m\u001b[1;33m\u001b[0m\u001b[0m\n\u001b[0;32m      2\u001b[0m \u001b[1;33m\u001b[0m\u001b[0m\n\u001b[1;32m----> 3\u001b[1;33m \u001b[0mcms_data\u001b[0m\u001b[1;33m=\u001b[0m\u001b[0mcms_data\u001b[0m\u001b[1;33m.\u001b[0m\u001b[0msample\u001b[0m\u001b[1;33m(\u001b[0m\u001b[1;36m883282\u001b[0m\u001b[1;33m)\u001b[0m\u001b[1;33m\u001b[0m\u001b[1;33m\u001b[0m\u001b[0m\n\u001b[0m\u001b[0;32m      4\u001b[0m \u001b[0mprint\u001b[0m\u001b[1;33m(\u001b[0m\u001b[0mcms_data\u001b[0m\u001b[1;33m.\u001b[0m\u001b[0mshape\u001b[0m\u001b[1;33m)\u001b[0m\u001b[1;33m\u001b[0m\u001b[1;33m\u001b[0m\u001b[0m\n\u001b[0;32m      5\u001b[0m \u001b[0mcms_data\u001b[0m\u001b[1;33m.\u001b[0m\u001b[0msample\u001b[0m\u001b[1;33m(\u001b[0m\u001b[1;36m25\u001b[0m\u001b[1;33m)\u001b[0m\u001b[1;33m\u001b[0m\u001b[1;33m\u001b[0m\u001b[0m\n",
      "\u001b[1;32m~\\Anaconda3\\lib\\site-packages\\pandas\\core\\generic.py\u001b[0m in \u001b[0;36msample\u001b[1;34m(self, n, frac, replace, weights, random_state, axis)\u001b[0m\n\u001b[0;32m   4863\u001b[0m                              \"provide positive value.\")\n\u001b[0;32m   4864\u001b[0m \u001b[1;33m\u001b[0m\u001b[0m\n\u001b[1;32m-> 4865\u001b[1;33m         \u001b[0mlocs\u001b[0m \u001b[1;33m=\u001b[0m \u001b[0mrs\u001b[0m\u001b[1;33m.\u001b[0m\u001b[0mchoice\u001b[0m\u001b[1;33m(\u001b[0m\u001b[0maxis_length\u001b[0m\u001b[1;33m,\u001b[0m \u001b[0msize\u001b[0m\u001b[1;33m=\u001b[0m\u001b[0mn\u001b[0m\u001b[1;33m,\u001b[0m \u001b[0mreplace\u001b[0m\u001b[1;33m=\u001b[0m\u001b[0mreplace\u001b[0m\u001b[1;33m,\u001b[0m \u001b[0mp\u001b[0m\u001b[1;33m=\u001b[0m\u001b[0mweights\u001b[0m\u001b[1;33m)\u001b[0m\u001b[1;33m\u001b[0m\u001b[1;33m\u001b[0m\u001b[0m\n\u001b[0m\u001b[0;32m   4866\u001b[0m         \u001b[1;32mreturn\u001b[0m \u001b[0mself\u001b[0m\u001b[1;33m.\u001b[0m\u001b[0mtake\u001b[0m\u001b[1;33m(\u001b[0m\u001b[0mlocs\u001b[0m\u001b[1;33m,\u001b[0m \u001b[0maxis\u001b[0m\u001b[1;33m=\u001b[0m\u001b[0maxis\u001b[0m\u001b[1;33m,\u001b[0m \u001b[0mis_copy\u001b[0m\u001b[1;33m=\u001b[0m\u001b[1;32mFalse\u001b[0m\u001b[1;33m)\u001b[0m\u001b[1;33m\u001b[0m\u001b[1;33m\u001b[0m\u001b[0m\n\u001b[0;32m   4867\u001b[0m \u001b[1;33m\u001b[0m\u001b[0m\n",
      "\u001b[1;32mmtrand.pyx\u001b[0m in \u001b[0;36mmtrand.RandomState.choice\u001b[1;34m()\u001b[0m\n",
      "\u001b[1;31mValueError\u001b[0m: Cannot take a larger sample than population when 'replace=False'"
     ]
    }
   ],
   "source": [
    "#Sample size=883,282 (95% Confidence)\n",
    "\n",
    "cms_data=cms_data.sample(883282)\n",
    "print(cms_data.shape)\n",
    "cms_data.sample(25)"
   ]
  },
  {
   "cell_type": "markdown",
   "metadata": {},
   "source": [
    "#### 3.2. Exploration of Location"
   ]
  },
  {
   "cell_type": "code",
   "execution_count": 208,
   "metadata": {},
   "outputs": [
    {
     "name": "stdout",
     "output_type": "stream",
     "text": [
      "(765886, 14)\n"
     ]
    },
    {
     "data": {
      "text/plain": [
       "United States                           764661\n",
       "Great Britain (Uk)                         441\n",
       "Canada                                      97\n",
       "Belgium                                     16\n",
       "Germany                                      3\n",
       "United States Minor Outlying Islands         3\n",
       "Japan                                        2\n",
       "Australia                                    1\n",
       "Poland                                       1\n",
       "Mexico                                       1\n",
       "Denmark                                      1\n",
       "Name: Recipient_Country, dtype: int64"
      ]
     },
     "execution_count": 208,
     "metadata": {},
     "output_type": "execute_result"
    }
   ],
   "source": [
    "print(cms_data.shape)\n",
    "cms_data['Recipient_Country'].value_counts()"
   ]
  },
  {
   "cell_type": "code",
   "execution_count": 209,
   "metadata": {},
   "outputs": [
    {
     "name": "stdout",
     "output_type": "stream",
     "text": [
      "(764661, 14)\n"
     ]
    },
    {
     "data": {
      "text/plain": [
       "Record_ID                                                             0\n",
       "Teaching_Hospital_Name                                           659878\n",
       "Physician_First_Name                                             623881\n",
       "Physician_Last_Name                                              623882\n",
       "Physician_Primary_Type                                                0\n",
       "Recipient_State                                                       0\n",
       "Recipient_Zip_Code                                                    0\n",
       "Recipient_Country                                                     0\n",
       "Physician_Primary_Type                                                0\n",
       "Physician_Specialty                                              624031\n",
       "Applicable_Manufacturer_or_Applicable_GPO_Making_Payment_Name         0\n",
       "Total_Amount_of_Payment_USDollars                                     0\n",
       "Covered_Recipient_Type                                                0\n",
       "Research                                                              0\n",
       "dtype: int64"
      ]
     },
     "execution_count": 209,
     "metadata": {},
     "output_type": "execute_result"
    }
   ],
   "source": [
    "cms_data=cms_data[pd.notnull(cms_data['Recipient_State'])]\n",
    "print(cms_data.shape)\n",
    "cms_data.isnull().sum()"
   ]
  },
  {
   "cell_type": "code",
   "execution_count": 210,
   "metadata": {
    "scrolled": true
   },
   "outputs": [
    {
     "data": {
      "text/plain": [
       "<matplotlib.axes._subplots.AxesSubplot at 0x2300376eba8>"
      ]
     },
     "execution_count": 210,
     "metadata": {},
     "output_type": "execute_result"
    },
    {
     "data": {
      "image/png": "[encoded data removed]",
      "text/plain": [
       "<Figure size 1440x360 with 1 Axes>"
      ]
     },
     "metadata": {
      "needs_background": "light"
     },
     "output_type": "display_data"
    }
   ],
   "source": [
    "fig = plt.gcf()\n",
    "fig.set_size_inches(20, 5)\n",
    "sns.countplot(x='Recipient_State',hue='Research',data=cms_data)"
   ]
  },
  {
   "cell_type": "markdown",
   "metadata": {},
   "source": [
    "#### 3.3. Exploration of Type of Payments"
   ]
  },
  {
   "cell_type": "code",
   "execution_count": 211,
   "metadata": {
    "scrolled": true
   },
   "outputs": [
    {
     "data": {
      "text/plain": [
       "<matplotlib.axes._subplots.AxesSubplot at 0x2303e3dcac8>"
      ]
     },
     "execution_count": 211,
     "metadata": {},
     "output_type": "execute_result"
    },
    {
     "data": {
      "image/png": "[encoded data removed]",
      "text/plain": [
       "<Figure size 1440x360 with 1 Axes>"
      ]
     },
     "metadata": {
      "needs_background": "light"
     },
     "output_type": "display_data"
    }
   ],
   "source": [
    "fig = plt.gcf()\n",
    "fig.set_size_inches(20, 5)\n",
    "sns.countplot(x='Covered_Recipient_Type',hue='Research',data=cms_data)"
   ]
  },
  {
   "cell_type": "code",
   "execution_count": 212,
   "metadata": {},
   "outputs": [
    {
     "data": {
      "text/plain": [
       "<matplotlib.axes._subplots.AxesSubplot at 0x23003798dd8>"
      ]
     },
     "execution_count": 212,
     "metadata": {},
     "output_type": "execute_result"
    },
    {
     "data": {
      "image/png": "[encoded data removed]",
      "text/plain": [
       "<Figure size 432x288 with 1 Axes>"
      ]
     },
     "metadata": {
      "needs_background": "light"
     },
     "output_type": "display_data"
    }
   ],
   "source": [
    "sns.countplot(x='Research',hue='Covered_Recipient_Type',data=cms_data)"
   ]
  },
  {
   "cell_type": "code",
   "execution_count": 213,
   "metadata": {},
   "outputs": [
    {
     "data": {
      "text/plain": [
       "<matplotlib.axes._subplots.AxesSubplot at 0x230107967b8>"
      ]
     },
     "execution_count": 213,
     "metadata": {},
     "output_type": "execute_result"
    },
    {
     "data": {
      "image/png": "[encoded data removed]",
      "text/plain": [
       "<Figure size 720x504 with 1 Axes>"
      ]
     },
     "metadata": {
      "needs_background": "light"
     },
     "output_type": "display_data"
    }
   ],
   "source": [
    "plt.figure(figsize=(10,7))\n",
    "sns.boxplot(x='Covered_Recipient_Type',y='Total_Amount_of_Payment_USDollars',data=cms_data)"
   ]
  },
  {
   "cell_type": "markdown",
   "metadata": {},
   "source": [
    "#### 3.4. Feature Engineering"
   ]
  },
  {
   "cell_type": "code",
   "execution_count": 214,
   "metadata": {
    "scrolled": true
   },
   "outputs": [],
   "source": [
    "#Create categorical dummy variables\n",
    "\n",
    "#physicianType_dummy = pd.get_dummies(cms_data['Physician_Primary_Type'])\n",
    "#state_dummy = pd.get_dummies(cms_data['Recipient_State'])\n",
    "paymentType_dummy = pd.get_dummies(cms_data['Covered_Recipient_Type'])"
   ]
  },
  {
   "cell_type": "markdown",
   "metadata": {},
   "source": [
    "<p><a name=\"prediction\"></a></p>\n",
    "\n",
    "## <i>4. Prediction and Results</i>"
   ]
  },
  {
   "cell_type": "markdown",
   "metadata": {},
   "source": [
    "#### 4.1. Logistic Regression"
   ]
  },
  {
   "cell_type": "code",
   "execution_count": 215,
   "metadata": {},
   "outputs": [
    {
     "data": {
      "text/plain": [
       "(764661,)"
      ]
     },
     "execution_count": 215,
     "metadata": {},
     "output_type": "execute_result"
    }
   ],
   "source": [
    "y = np.array(cms_data['Research'])\n",
    "y.shape"
   ]
  },
  {
   "cell_type": "code",
   "execution_count": 216,
   "metadata": {},
   "outputs": [],
   "source": [
    "X = np.array(cms_data[['Total_Amount_of_Payment_USDollars']])"
   ]
  },
  {
   "cell_type": "code",
   "execution_count": 217,
   "metadata": {},
   "outputs": [
    {
     "data": {
      "text/plain": [
       "(764661, 1)"
      ]
     },
     "execution_count": 217,
     "metadata": {},
     "output_type": "execute_result"
    }
   ],
   "source": [
    "X.shape"
   ]
  },
  {
   "cell_type": "code",
   "execution_count": 218,
   "metadata": {},
   "outputs": [
    {
     "data": {
      "text/plain": [
       "(764661, 4)"
      ]
     },
     "execution_count": 218,
     "metadata": {},
     "output_type": "execute_result"
    }
   ],
   "source": [
    "np.hstack([X, paymentType_dummy]).shape"
   ]
  },
  {
   "cell_type": "code",
   "execution_count": 219,
   "metadata": {},
   "outputs": [],
   "source": [
    "#Cross validation to split the data 70% training and %30 testing\n",
    "\n",
    "X_train, X_test, y_train, y_test = model_selection.train_test_split(X, y, test_size=0.3, random_state=42)"
   ]
  },
  {
   "cell_type": "code",
   "execution_count": 220,
   "metadata": {},
   "outputs": [
    {
     "name": "stderr",
     "output_type": "stream",
     "text": [
      "C:\\Users\\s_mas\\Anaconda3\\lib\\site-packages\\sklearn\\linear_model\\logistic.py:433: FutureWarning: Default solver will be changed to 'lbfgs' in 0.22. Specify a solver to silence this warning.\n",
      "  FutureWarning)\n"
     ]
    },
    {
     "data": {
      "text/plain": [
       "0.8528440277845242"
      ]
     },
     "execution_count": 220,
     "metadata": {},
     "output_type": "execute_result"
    }
   ],
   "source": [
    "#Fit model to the training set\n",
    "\n",
    "model = LogisticRegression()\n",
    "model.fit(X_train,y_train)\n",
    "model.score(X_train, y_train)"
   ]
  },
  {
   "cell_type": "code",
   "execution_count": 221,
   "metadata": {},
   "outputs": [
    {
     "name": "stderr",
     "output_type": "stream",
     "text": [
      "C:\\Users\\s_mas\\Anaconda3\\lib\\site-packages\\sklearn\\metrics\\classification.py:1143: UndefinedMetricWarning: Precision and F-score are ill-defined and being set to 0.0 in labels with no predicted samples.\n",
      "  'precision', 'predicted', average, warn_for)\n",
      "C:\\Users\\s_mas\\Anaconda3\\lib\\site-packages\\sklearn\\metrics\\classification.py:1143: UndefinedMetricWarning: Precision and F-score are ill-defined and being set to 0.0 in labels with no predicted samples.\n",
      "  'precision', 'predicted', average, warn_for)\n"
     ]
    },
    {
     "name": "stdout",
     "output_type": "stream",
     "text": [
      "              precision    recall  f1-score   support\n",
      "\n",
      "         0.0       0.00      0.00      0.00     33626\n",
      "         1.0       0.85      1.00      0.92    195773\n",
      "\n",
      "   micro avg       0.85      0.85      0.85    229399\n",
      "   macro avg       0.43      0.50      0.46    229399\n",
      "weighted avg       0.73      0.85      0.79    229399\n",
      "\n"
     ]
    },
    {
     "name": "stderr",
     "output_type": "stream",
     "text": [
      "C:\\Users\\s_mas\\Anaconda3\\lib\\site-packages\\sklearn\\metrics\\classification.py:1143: UndefinedMetricWarning: Precision and F-score are ill-defined and being set to 0.0 in labels with no predicted samples.\n",
      "  'precision', 'predicted', average, warn_for)\n"
     ]
    }
   ],
   "source": [
    "#Perform prediction\n",
    "\n",
    "prediction = model.predict(X_test)\n",
    "print(classification_report(y_test, prediction))"
   ]
  },
  {
   "cell_type": "code",
   "execution_count": 222,
   "metadata": {
    "scrolled": true
   },
   "outputs": [
    {
     "name": "stdout",
     "output_type": "stream",
     "text": [
      "Train/Test split results:\n",
      "LogisticRegression accuracy is 0.853\n",
      "LogisticRegression log_loss is 0.333\n",
      "LogisticRegression auc is 0.901\n"
     ]
    }
   ],
   "source": [
    "# check classification scores of logistic regression\n",
    "\n",
    "prediction_proba = model.predict_proba(X_test)[:, 1]\n",
    "[fpr, tpr, thr] = roc_curve(y_test, prediction_proba)\n",
    "print('Train/Test split results:')\n",
    "print(model.__class__.__name__+\" accuracy is %2.3f\" % accuracy_score(y_test, prediction))\n",
    "print(model.__class__.__name__+\" log_loss is %2.3f\" % log_loss(y_test, prediction_proba))\n",
    "print(model.__class__.__name__+\" auc is %2.3f\" % auc(fpr, tpr))"
   ]
  },
  {
   "cell_type": "code",
   "execution_count": 223,
   "metadata": {},
   "outputs": [
    {
     "data": {
      "image/png": "[encoded data removed]",
      "text/plain": [
       "<Figure size 432x288 with 1 Axes>"
      ]
     },
     "metadata": {
      "needs_background": "light"
     },
     "output_type": "display_data"
    },
    {
     "name": "stdout",
     "output_type": "stream",
     "text": [
      "Using a threshold of 0.623 guarantees a sensitivity of 0.950 and a specificity of 0.417, i.e. a false positive rate of 58.34%.\n"
     ]
    }
   ],
   "source": [
    "idx = np.min(np.where(tpr > 0.95)) # index threshold \n",
    "\n",
    "plt.figure()\n",
    "plt.plot(fpr, tpr, color='coral', label='ROC curve (area = %0.3f)' % auc(fpr, tpr))\n",
    "plt.plot([0, 1], [0, 1], 'k--')\n",
    "plt.plot([0,fpr[idx]], [tpr[idx],tpr[idx]], 'k--', color='blue')\n",
    "plt.plot([fpr[idx],fpr[idx]], [0,tpr[idx]], 'k--', color='blue')\n",
    "plt.xlim([0.0, 1.0])\n",
    "plt.ylim([0.0, 1.05])\n",
    "plt.xlabel('False Positive Rate (1 - specificity)', fontsize=14)\n",
    "plt.ylabel('True Positive Rate (recall)', fontsize=14)\n",
    "plt.title('Receiver operating characteristic (ROC) curve')\n",
    "plt.legend(loc=\"lower right\")\n",
    "plt.show()\n",
    "\n",
    "print(\"Using a threshold of %.3f \" % thr[idx] + \"guarantees a sensitivity of %.3f \" % tpr[idx] +  \n",
    "      \"and a specificity of %.3f\" % (1-fpr[idx]) + \n",
    "      \", i.e. a false positive rate of %.2f%%.\" % (np.array(fpr[idx])*100))"
   ]
  },
  {
   "cell_type": "code",
   "execution_count": 224,
   "metadata": {},
   "outputs": [],
   "source": [
    "RMSE=math.sqrt(mean_squared_error(y_true=y_test,y_pred=prediction))"
   ]
  },
  {
   "cell_type": "code",
   "execution_count": 225,
   "metadata": {},
   "outputs": [
    {
     "name": "stdout",
     "output_type": "stream",
     "text": [
      "0.3828616301287993\n"
     ]
    }
   ],
   "source": [
    "print(RMSE)"
   ]
  },
  {
   "cell_type": "markdown",
   "metadata": {},
   "source": [
    "#### Visualization of the Models using Receiver Characteristic Curve (ROC) for Logistic Regression"
   ]
  },
  {
   "cell_type": "code",
   "execution_count": 226,
   "metadata": {},
   "outputs": [
    {
     "name": "stdout",
     "output_type": "stream",
     "text": [
      "No Skill: ROC AUC=0.500\n",
      "Logistic: ROC AUC=0.901\n"
     ]
    },
    {
     "data": {
      "image/png": "[encoded data removed]",
      "text/plain": [
       "<Figure size 1080x576 with 1 Axes>"
      ]
     },
     "metadata": {
      "needs_background": "light"
     },
     "output_type": "display_data"
    }
   ],
   "source": [
    "# roc curve and auc - generate a no skill prediction (majority class)\n",
    "\n",
    "ns_probs = [0 for _ in range(len(y_test))]\n",
    "\n",
    "# fit a model\n",
    "\n",
    "model = LogisticRegression(solver='lbfgs')\n",
    "model.fit(X_train, y_train)\n",
    "# predict probabilities\n",
    "lr_probs = model.predict_proba(X_test)\n",
    "# keep probabilities for the positive outcome only\n",
    "lr_probs = lr_probs[:, 1]\n",
    "# calculate scores\n",
    "ns_auc = roc_auc_score(y_test, ns_probs)\n",
    "lr_auc = roc_auc_score(y_test, lr_probs)\n",
    "# summarize scores\n",
    "print('No Skill: ROC AUC=%.3f' % (ns_auc))\n",
    "print('Logistic: ROC AUC=%.3f' % (lr_auc))\n",
    "# calculate roc curves\n",
    "ns_fpr, ns_tpr, _ = roc_curve(y_test, ns_probs)\n",
    "lr_fpr, lr_tpr, _ = roc_curve(y_test, lr_probs)\n",
    "# plot the roc curve for the model\n",
    "plt.plot(ns_fpr, ns_tpr, linestyle='--', label='No Skill')\n",
    "plt.plot(lr_fpr, lr_tpr, marker='.', label='Logistic')\n",
    "# axis labels\n",
    "plt.xlabel('False Positive Rate')\n",
    "plt.ylabel('True Positive Rate')\n",
    "# show the legend\n",
    "plt.legend()\n",
    "\n",
    "\n",
    "fig = plt.gcf()\n",
    "fig.set_size_inches(15, 8)\n",
    "\n",
    "# show the plot\n",
    "plt.show()"
   ]
  },
  {
   "cell_type": "markdown",
   "metadata": {},
   "source": [
    "#### 4.2. Decision Tree"
   ]
  },
  {
   "cell_type": "code",
   "execution_count": 227,
   "metadata": {},
   "outputs": [
    {
     "data": {
      "text/plain": [
       "DecisionTreeRegressor(criterion='mse', max_depth=20, max_features=None,\n",
       "           max_leaf_nodes=None, min_impurity_decrease=0.0,\n",
       "           min_impurity_split=None, min_samples_leaf=1,\n",
       "           min_samples_split=2, min_weight_fraction_leaf=0.0,\n",
       "           presort=False, random_state=None, splitter='best')"
      ]
     },
     "execution_count": 227,
     "metadata": {},
     "output_type": "execute_result"
    }
   ],
   "source": [
    "#Decision tree approach (top down)\n",
    "\n",
    "regressor = DecisionTreeRegressor(max_depth=20)\n",
    "regressor.fit(X_train, y_train)"
   ]
  },
  {
   "cell_type": "code",
   "execution_count": 228,
   "metadata": {},
   "outputs": [
    {
     "data": {
      "text/plain": [
       "array([1.  , 1.  , 0.98, ..., 0.97, 0.98, 0.97])"
      ]
     },
     "execution_count": 228,
     "metadata": {},
     "output_type": "execute_result"
    }
   ],
   "source": [
    "prediction = regressor.predict(X_test)\n",
    "prediction"
   ]
  },
  {
   "cell_type": "code",
   "execution_count": 229,
   "metadata": {},
   "outputs": [
    {
     "name": "stdout",
     "output_type": "stream",
     "text": [
      "Accuracy of Random forest on test set: 0.619\n"
     ]
    }
   ],
   "source": [
    "print('Accuracy of Random forest on test set: {:.3f}'.format(regressor.score(X_test, y_test)))"
   ]
  },
  {
   "cell_type": "code",
   "execution_count": 230,
   "metadata": {},
   "outputs": [
    {
     "name": "stdout",
     "output_type": "stream",
     "text": [
      "0.218395590040479\n"
     ]
    }
   ],
   "source": [
    "RMSE=math.sqrt(mean_squared_error(y_true = y_test, y_pred = prediction))\n",
    "print(RMSE)"
   ]
  },
  {
   "cell_type": "code",
   "execution_count": 231,
   "metadata": {},
   "outputs": [
    {
     "name": "stdout",
     "output_type": "stream",
     "text": [
      "0.218395590040479\n"
     ]
    }
   ],
   "source": [
    "RMSE=math.sqrt(mean_squared_error(y_true = y_test, y_pred = prediction))\n",
    "print(RMSE)"
   ]
  },
  {
   "cell_type": "markdown",
   "metadata": {},
   "source": [
    "#### 4.3. Random Forest"
   ]
  },
  {
   "cell_type": "code",
   "execution_count": 232,
   "metadata": {},
   "outputs": [
    {
     "data": {
      "text/plain": [
       "RandomForestClassifier(bootstrap=True, class_weight=None, criterion='gini',\n",
       "            max_depth=2, max_features='auto', max_leaf_nodes=None,\n",
       "            min_impurity_decrease=0.0, min_impurity_split=None,\n",
       "            min_samples_leaf=1, min_samples_split=2,\n",
       "            min_weight_fraction_leaf=0.0, n_estimators=100, n_jobs=None,\n",
       "            oob_score=False, random_state=0, verbose=0, warm_start=False)"
      ]
     },
     "execution_count": 232,
     "metadata": {},
     "output_type": "execute_result"
    }
   ],
   "source": [
    "#from sklearn.datasets import make_classification\n",
    "\n",
    "rfc = RandomForestClassifier(n_estimators=100, max_depth=2, random_state=0)\n",
    "rfc.fit(X_train, y_train)"
   ]
  },
  {
   "cell_type": "code",
   "execution_count": 233,
   "metadata": {},
   "outputs": [
    {
     "name": "stdout",
     "output_type": "stream",
     "text": [
      "Accuracy of Random forest on test set: 0.907\n"
     ]
    }
   ],
   "source": [
    "prediction = rfc.predict(X_test)\n",
    "print('Accuracy of Random forest on test set: {:.3f}'.format(rfc.score(X_test, y_test)))"
   ]
  },
  {
   "cell_type": "code",
   "execution_count": 234,
   "metadata": {},
   "outputs": [
    {
     "name": "stdout",
     "output_type": "stream",
     "text": [
      "0.3043143178390822\n"
     ]
    }
   ],
   "source": [
    "RMSE=math.sqrt(mean_squared_error(y_true = y_test, y_pred = prediction))\n",
    "print(RMSE)"
   ]
  },
  {
   "cell_type": "code",
   "execution_count": null,
   "metadata": {},
   "outputs": [],
   "source": []
  }
 ],
 "metadata": {
  "kernelspec": {
   "display_name": "Python 3",
   "language": "python",
   "name": "python3"
  },
  "language_info": {
   "codemirror_mode": {
    "name": "ipython",
    "version": 3
   },
   "file_extension": ".py",
   "mimetype": "text/x-python",
   "name": "python",
   "nbconvert_exporter": "python",
   "pygments_lexer": "ipython3",
   "version": "3.7.3"
  }
 },
 "nbformat": 4,
 "nbformat_minor": 2
}
