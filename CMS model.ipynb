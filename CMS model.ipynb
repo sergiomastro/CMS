{
 "cells": [
  {
   "cell_type": "markdown",
   "metadata": {},
   "source": [
    "# CMS Open Payments analysis"
   ]
  },
  {
   "attachments": {},
   "cell_type": "markdown",
   "metadata": {},
   "source": [
    "<p><a name=\"sections\"></a></p>\n",
    "\n",
    "\n",
    "## Sections\n",
    "\n",
    "- <a href=\"#import\">Import data and Python packages</a><br>\n",
    "- <a href=\"#cleaning\">Assess Data Quality & Missing Values</a><br>\n",
    "- <a href=\"#exploratory\">Exploratory Data Analysis</a><br>\n",
    "- <a href=\"#prediction\">Prediction and Results</a><br>"
   ]
  },
  {
   "cell_type": "markdown",
   "metadata": {},
   "source": [
    "<p><a name=\"import\"></a></p>\n",
    "\n",
    "## <i>1. Import data and Python packages</i>"
   ]
  },
  {
   "cell_type": "code",
   "execution_count": 125,
   "metadata": {},
   "outputs": [],
   "source": [
    "#Import all the necessary packages for data analysis \n",
    "\n",
    "import pandas as pd\n",
    "import numpy as np\n",
    "\n",
    "import sklearn\n",
    "from sklearn import model_selection, linear_model\n",
    "from sklearn import feature_selection\n",
    "from sklearn.metrics import classification_report\n",
    "from sklearn.metrics import accuracy_score\n",
    "from sklearn.metrics import mean_squared_error\n",
    "from sklearn.ensemble import RandomForestClassifier\n",
    "from sklearn.linear_model import LogisticRegression\n",
    "from sklearn.metrics import confusion_matrix\n",
    "from sklearn.svm import SVC\n",
    "\n",
    "import matplotlib.pyplot as plt\n",
    "import seaborn as sns\n",
    "%matplotlib inline\n",
    "\n",
    "import math\n",
    "import re\n",
    "\n",
    "\n",
    "from sklearn.tree import DecisionTreeRegressor\n",
    "\n",
    "\n",
    "from sklearn.datasets import make_classification\n",
    "from sklearn.metrics import roc_curve\n",
    "from sklearn.metrics import roc_auc_score\n",
    "\n",
    "\n",
    "#from sklearn import svm, datasets\n",
    "#from sklearn.utils.multiclass import unique_labels\n",
    "from sklearn.model_selection import train_test_split, cross_val_score\n",
    "from sklearn.metrics import accuracy_score, classification_report, precision_score, recall_score \n",
    "from sklearn.metrics import confusion_matrix, precision_recall_curve, roc_curve, auc, log_loss"
   ]
  },
  {
   "cell_type": "code",
   "execution_count": 2,
   "metadata": {},
   "outputs": [],
   "source": [
    "#Import datasets\n",
    "\n",
    "general = pd.read_csv('data/OP_DTL_GNRL_PGYR2017_P06282019.csv',low_memory=False)\n",
    "#general = pd.read_csv('data/OP_DTL_GNRL_Sample.csv',low_memory=False)\n",
    "\n",
    "research = pd.read_csv('data/OP_DTL_RSRCH_PGYR2017_P06282019.csv',low_memory=False)\n",
    "ownership = pd.read_csv('data/OP_DTL_OWNRSHP_PGYR2017_P06282019.csv',low_memory=False)\n",
    "removed = pd.read_csv('data/OP_REMOVED_DELETED_PGYR2017_P06282019.csv',low_memory=False)"
   ]
  },
  {
   "cell_type": "code",
   "execution_count": 6,
   "metadata": {},
   "outputs": [],
   "source": [
    "#Flag research records\n",
    "\n",
    "general['Research']=0.0\n",
    "research['Research']=1.0\n",
    "ownership['Research']=0.0\n",
    "removed['Research']=0.0"
   ]
  },
  {
   "cell_type": "code",
   "execution_count": 7,
   "metadata": {},
   "outputs": [
    {
     "name": "stdout",
     "output_type": "stream",
     "text": [
      "(11239733, 76)\n",
      "(653488, 177)\n",
      "(2840, 30)\n",
      "(95583, 5)\n"
     ]
    }
   ],
   "source": [
    "print(general.shape)\n",
    "print(research.shape)\n",
    "print(ownership.shape)\n",
    "print(removed.shape)"
   ]
  },
  {
   "cell_type": "code",
   "execution_count": 8,
   "metadata": {},
   "outputs": [],
   "source": [
    "#Remove null records\n",
    "\n",
    "general.dropna(how='all', inplace=True)\n",
    "research.dropna(how='all', inplace=True)\n",
    "ownership.dropna(how='all', inplace=True)\n",
    "removed.dropna(how='all', inplace=True)"
   ]
  },
  {
   "cell_type": "code",
   "execution_count": 18,
   "metadata": {},
   "outputs": [
    {
     "name": "stdout",
     "output_type": "stream",
     "text": [
      "<class 'pandas.core.frame.DataFrame'>\n",
      "Int64Index: 11239733 entries, 0 to 11239732\n",
      "Data columns (total 76 columns):\n",
      "Change_Type                                                          object\n",
      "Covered_Recipient_Type                                               object\n",
      "Teaching_Hospital_CCN                                                float64\n",
      "Teaching_Hospital_ID                                                 float64\n",
      "Teaching_Hospital_Name                                               object\n",
      "Physician_Profile_ID                                                 float64\n",
      "Physician_First_Name                                                 object\n",
      "Physician_Middle_Name                                                object\n",
      "Physician_Last_Name                                                  object\n",
      "Physician_Name_Suffix                                                object\n",
      "Recipient_Primary_Business_Street_Address_Line1                      object\n",
      "Recipient_Primary_Business_Street_Address_Line2                      object\n",
      "Recipient_City                                                       object\n",
      "Recipient_State                                                      object\n",
      "Recipient_Zip_Code                                                   object\n",
      "Recipient_Country                                                    object\n",
      "Recipient_Province                                                   object\n",
      "Recipient_Postal_Code                                                object\n",
      "Physician_Primary_Type                                               object\n",
      "Physician_Specialty                                                  object\n",
      "Physician_License_State_code1                                        object\n",
      "Physician_License_State_code2                                        object\n",
      "Physician_License_State_code3                                        object\n",
      "Physician_License_State_code4                                        object\n",
      "Physician_License_State_code5                                        object\n",
      "Submitting_Applicable_Manufacturer_or_Applicable_GPO_Name            object\n",
      "Applicable_Manufacturer_or_Applicable_GPO_Making_Payment_ID          int64\n",
      "Applicable_Manufacturer_or_Applicable_GPO_Making_Payment_Name        object\n",
      "Applicable_Manufacturer_or_Applicable_GPO_Making_Payment_State       object\n",
      "Applicable_Manufacturer_or_Applicable_GPO_Making_Payment_Country     object\n",
      "Total_Amount_of_Payment_USDollars                                    float64\n",
      "Date_of_Payment                                                      object\n",
      "Number_of_Payments_Included_in_Total_Amount                          int64\n",
      "Form_of_Payment_or_Transfer_of_Value                                 object\n",
      "Nature_of_Payment_or_Transfer_of_Value                               object\n",
      "City_of_Travel                                                       object\n",
      "State_of_Travel                                                      object\n",
      "Country_of_Travel                                                    object\n",
      "Physician_Ownership_Indicator                                        object\n",
      "Third_Party_Payment_Recipient_Indicator                              object\n",
      "Name_of_Third_Party_Entity_Receiving_Payment_or_Transfer_of_Value    object\n",
      "Charity_Indicator                                                    object\n",
      "Third_Party_Equals_Covered_Recipient_Indicator                       object\n",
      "Contextual_Information                                               object\n",
      "Delay_in_Publication_Indicator                                       object\n",
      "Record_ID                                                            int64\n",
      "Dispute_Status_for_Publication                                       object\n",
      "Related_Product_Indicator                                            object\n",
      "Covered_or_Noncovered_Indicator_1                                    object\n",
      "Indicate_Drug_or_Biological_or_Device_or_Medical_Supply_1            object\n",
      "Product_Category_or_Therapeutic_Area_1                               object\n",
      "Name_of_Drug_or_Biological_or_Device_or_Medical_Supply_1             object\n",
      "Associated_Drug_or_Biological_NDC_1                                  object\n",
      "Covered_or_Noncovered_Indicator_2                                    object\n",
      "Indicate_Drug_or_Biological_or_Device_or_Medical_Supply_2            object\n",
      "Product_Category_or_Therapeutic_Area_2                               object\n",
      "Name_of_Drug_or_Biological_or_Device_or_Medical_Supply_2             object\n",
      "Associated_Drug_or_Biological_NDC_2                                  object\n",
      "Covered_or_Noncovered_Indicator_3                                    object\n",
      "Indicate_Drug_or_Biological_or_Device_or_Medical_Supply_3            object\n",
      "Product_Category_or_Therapeutic_Area_3                               object\n",
      "Name_of_Drug_or_Biological_or_Device_or_Medical_Supply_3             object\n",
      "Associated_Drug_or_Biological_NDC_3                                  object\n",
      "Covered_or_Noncovered_Indicator_4                                    object\n",
      "Indicate_Drug_or_Biological_or_Device_or_Medical_Supply_4            object\n",
      "Product_Category_or_Therapeutic_Area_4                               object\n",
      "Name_of_Drug_or_Biological_or_Device_or_Medical_Supply_4             object\n",
      "Associated_Drug_or_Biological_NDC_4                                  object\n",
      "Covered_or_Noncovered_Indicator_5                                    object\n",
      "Indicate_Drug_or_Biological_or_Device_or_Medical_Supply_5            object\n",
      "Product_Category_or_Therapeutic_Area_5                               object\n",
      "Name_of_Drug_or_Biological_or_Device_or_Medical_Supply_5             object\n",
      "Associated_Drug_or_Biological_NDC_5                                  object\n",
      "Program_Year                                                         int64\n",
      "Payment_Publication_Date                                             object\n",
      "Research                                                             float64\n",
      "dtypes: float64(5), int64(4), object(67)\n",
      "memory usage: 6.4+ GB\n",
      "<class 'pandas.core.frame.DataFrame'>\n",
      "Int64Index: 653488 entries, 0 to 653487\n",
      "Columns: 177 entries, Change_Type to Research\n",
      "dtypes: float64(35), int64(3), object(139)\n",
      "memory usage: 887.5+ MB\n",
      "<class 'pandas.core.frame.DataFrame'>\n",
      "Int64Index: 2840 entries, 0 to 2839\n",
      "Data columns (total 30 columns):\n",
      "Change_Type                                                         2840 non-null object\n",
      "Physician_Profile_ID                                                2840 non-null int64\n",
      "Physician_First_Name                                                2840 non-null object\n",
      "Physician_Middle_Name                                               1079 non-null object\n",
      "Physician_Last_Name                                                 2840 non-null object\n",
      "Physician_Name_Suffix                                               529 non-null object\n",
      "Recipient_Primary_Business_Street_Address_Line1                     2840 non-null object\n",
      "Recipient_Primary_Business_Street_Address_Line2                     895 non-null object\n",
      "Recipient_City                                                      2840 non-null object\n",
      "Recipient_State                                                     2840 non-null object\n",
      "Recipient_Zip_Code                                                  2840 non-null object\n",
      "Recipient_Country                                                   2840 non-null object\n",
      "Recipient_Province                                                  0 non-null float64\n",
      "Recipient_Postal_Code                                               0 non-null float64\n",
      "Physician_Primary_Type                                              2840 non-null object\n",
      "Physician_Specialty                                                 2678 non-null object\n",
      "Record_ID                                                           2840 non-null int64\n",
      "Program_Year                                                        2840 non-null int64\n",
      "Total_Amount_Invested_USDollars                                     2840 non-null float64\n",
      "Value_of_Interest                                                   2840 non-null float64\n",
      "Terms_of_Interest                                                   2828 non-null object\n",
      "Submitting_Applicable_Manufacturer_or_Applicable_GPO_Name           2840 non-null object\n",
      "Applicable_Manufacturer_or_Applicable_GPO_Making_Payment_ID         2840 non-null int64\n",
      "Applicable_Manufacturer_or_Applicable_GPO_Making_Payment_Name       2840 non-null object\n",
      "Applicable_Manufacturer_or_Applicable_GPO_Making_Payment_State      2827 non-null object\n",
      "Applicable_Manufacturer_or_Applicable_GPO_Making_Payment_Country    2840 non-null object\n",
      "Dispute_Status_for_Publication                                      2840 non-null object\n",
      "Interest_Held_by_Physician_or_an_Immediate_Family_Member            2840 non-null object\n",
      "Payment_Publication_Date                                            2840 non-null object\n",
      "Research                                                            2840 non-null float64\n",
      "dtypes: float64(5), int64(4), object(21)\n",
      "memory usage: 687.8+ KB\n",
      "<class 'pandas.core.frame.DataFrame'>\n",
      "Int64Index: 95583 entries, 0 to 95582\n",
      "Data columns (total 5 columns):\n",
      "Change_Type     95583 non-null object\n",
      "Program_Year    95583 non-null int64\n",
      "Payment_Type    95583 non-null object\n",
      "Record_ID       95583 non-null int64\n",
      "Research        95583 non-null float64\n",
      "dtypes: float64(1), int64(2), object(2)\n",
      "memory usage: 4.4+ MB\n"
     ]
    }
   ],
   "source": [
    "general.info()\n",
    "research.info()\n",
    "ownership.info()\n",
    "removed.info()"
   ]
  },
  {
   "cell_type": "code",
   "execution_count": 19,
   "metadata": {},
   "outputs": [],
   "source": [
    "#Remove Ownership and Removed datasets (statistically insignificant)\n",
    "#Reduce the number of attributes (columns) \n",
    "\n",
    "general_data=general[['Record_ID','Teaching_Hospital_Name','Physician_First_Name','Physician_Last_Name','Physician_Primary_Type','Recipient_State','Recipient_Zip_Code','Recipient_Country','Physician_Primary_Type','Physician_Specialty','Applicable_Manufacturer_or_Applicable_GPO_Making_Payment_Name','Total_Amount_of_Payment_USDollars','Covered_Recipient_Type','Research']]\n",
    "research_data=research[['Record_ID','Teaching_Hospital_Name','Physician_First_Name','Physician_Last_Name','Physician_Primary_Type','Recipient_State','Recipient_Zip_Code','Recipient_Country','Physician_Primary_Type','Physician_Specialty','Applicable_Manufacturer_or_Applicable_GPO_Making_Payment_Name','Total_Amount_of_Payment_USDollars','Covered_Recipient_Type','Research']]"
   ]
  },
  {
   "cell_type": "code",
   "execution_count": 35,
   "metadata": {
    "scrolled": true
   },
   "outputs": [
    {
     "name": "stdout",
     "output_type": "stream",
     "text": [
      "(11239733, 14)\n",
      "(653488, 14)\n"
     ]
    }
   ],
   "source": [
    "print(general_data.shape)\n",
    "print(research_data.shape)"
   ]
  },
  {
   "cell_type": "code",
   "execution_count": 36,
   "metadata": {
    "scrolled": true
   },
   "outputs": [
    {
     "data": {
      "text/html": [
       "<div>\n",
       "<style scoped>\n",
       "    .dataframe tbody tr th:only-of-type {\n",
       "        vertical-align: middle;\n",
       "    }\n",
       "\n",
       "    .dataframe tbody tr th {\n",
       "        vertical-align: top;\n",
       "    }\n",
       "\n",
       "    .dataframe thead th {\n",
       "        text-align: right;\n",
       "    }\n",
       "</style>\n",
       "<table border=\"1\" class=\"dataframe\">\n",
       "  <thead>\n",
       "    <tr style=\"text-align: right;\">\n",
       "      <th></th>\n",
       "      <th>Record_ID</th>\n",
       "      <th>Teaching_Hospital_Name</th>\n",
       "      <th>Physician_First_Name</th>\n",
       "      <th>Physician_Last_Name</th>\n",
       "      <th>Physician_Primary_Type</th>\n",
       "      <th>Recipient_State</th>\n",
       "      <th>Recipient_Zip_Code</th>\n",
       "      <th>Recipient_Country</th>\n",
       "      <th>Physician_Primary_Type</th>\n",
       "      <th>Physician_Specialty</th>\n",
       "      <th>Applicable_Manufacturer_or_Applicable_GPO_Making_Payment_Name</th>\n",
       "      <th>Total_Amount_of_Payment_USDollars</th>\n",
       "      <th>Covered_Recipient_Type</th>\n",
       "      <th>Research</th>\n",
       "    </tr>\n",
       "  </thead>\n",
       "  <tbody>\n",
       "    <tr>\n",
       "      <th>0</th>\n",
       "      <td>422181493</td>\n",
       "      <td>NaN</td>\n",
       "      <td>MARK</td>\n",
       "      <td>GINSBURG</td>\n",
       "      <td>Doctor of Osteopathy</td>\n",
       "      <td>PA</td>\n",
       "      <td>19013</td>\n",
       "      <td>United States</td>\n",
       "      <td>Doctor of Osteopathy</td>\n",
       "      <td>Allopathic &amp; Osteopathic Physicians|Otolaryngo...</td>\n",
       "      <td>Bovie Medical Corporation</td>\n",
       "      <td>22.43</td>\n",
       "      <td>Covered Recipient Physician</td>\n",
       "      <td>0.0</td>\n",
       "    </tr>\n",
       "    <tr>\n",
       "      <th>1</th>\n",
       "      <td>422707591</td>\n",
       "      <td>NaN</td>\n",
       "      <td>DIANE</td>\n",
       "      <td>BARRETT</td>\n",
       "      <td>Medical Doctor</td>\n",
       "      <td>VA</td>\n",
       "      <td>20166</td>\n",
       "      <td>United States</td>\n",
       "      <td>Medical Doctor</td>\n",
       "      <td>Allopathic &amp; Osteopathic Physicians|General Pr...</td>\n",
       "      <td>Mission Pharmacal Company</td>\n",
       "      <td>22.17</td>\n",
       "      <td>Covered Recipient Physician</td>\n",
       "      <td>0.0</td>\n",
       "    </tr>\n",
       "    <tr>\n",
       "      <th>2</th>\n",
       "      <td>423062429</td>\n",
       "      <td>NaN</td>\n",
       "      <td>BONNIE</td>\n",
       "      <td>BARSKY</td>\n",
       "      <td>Medical Doctor</td>\n",
       "      <td>IL</td>\n",
       "      <td>60035</td>\n",
       "      <td>United States</td>\n",
       "      <td>Medical Doctor</td>\n",
       "      <td>Allopathic &amp; Osteopathic Physicians|General Pr...</td>\n",
       "      <td>Mission Pharmacal Company</td>\n",
       "      <td>23.53</td>\n",
       "      <td>Covered Recipient Physician</td>\n",
       "      <td>0.0</td>\n",
       "    </tr>\n",
       "    <tr>\n",
       "      <th>3</th>\n",
       "      <td>423062439</td>\n",
       "      <td>NaN</td>\n",
       "      <td>JANINE</td>\n",
       "      <td>BARSOUM</td>\n",
       "      <td>Doctor of Osteopathy</td>\n",
       "      <td>PA</td>\n",
       "      <td>19355</td>\n",
       "      <td>United States</td>\n",
       "      <td>Doctor of Osteopathy</td>\n",
       "      <td>Allopathic &amp; Osteopathic Physicians|General Pr...</td>\n",
       "      <td>Mission Pharmacal Company</td>\n",
       "      <td>17.82</td>\n",
       "      <td>Covered Recipient Physician</td>\n",
       "      <td>0.0</td>\n",
       "    </tr>\n",
       "    <tr>\n",
       "      <th>4</th>\n",
       "      <td>422181495</td>\n",
       "      <td>NaN</td>\n",
       "      <td>ARNOLD</td>\n",
       "      <td>ALMONTE</td>\n",
       "      <td>Doctor of Osteopathy</td>\n",
       "      <td>CA</td>\n",
       "      <td>95762</td>\n",
       "      <td>United States</td>\n",
       "      <td>Doctor of Osteopathy</td>\n",
       "      <td>Allopathic &amp; Osteopathic Physicians|Surgery|Pl...</td>\n",
       "      <td>Bovie Medical Corporation</td>\n",
       "      <td>3.88</td>\n",
       "      <td>Covered Recipient Physician</td>\n",
       "      <td>0.0</td>\n",
       "    </tr>\n",
       "  </tbody>\n",
       "</table>\n",
       "</div>"
      ],
      "text/plain": [
       "   Record_ID Teaching_Hospital_Name Physician_First_Name Physician_Last_Name  \\\n",
       "0  422181493                    NaN                 MARK            GINSBURG   \n",
       "1  422707591                    NaN                DIANE             BARRETT   \n",
       "2  423062429                    NaN               BONNIE              BARSKY   \n",
       "3  423062439                    NaN               JANINE             BARSOUM   \n",
       "4  422181495                    NaN               ARNOLD             ALMONTE   \n",
       "\n",
       "  Physician_Primary_Type Recipient_State Recipient_Zip_Code Recipient_Country  \\\n",
       "0   Doctor of Osteopathy              PA              19013     United States   \n",
       "1         Medical Doctor              VA              20166     United States   \n",
       "2         Medical Doctor              IL              60035     United States   \n",
       "3   Doctor of Osteopathy              PA              19355     United States   \n",
       "4   Doctor of Osteopathy              CA              95762     United States   \n",
       "\n",
       "  Physician_Primary_Type                                Physician_Specialty  \\\n",
       "0   Doctor of Osteopathy  Allopathic & Osteopathic Physicians|Otolaryngo...   \n",
       "1         Medical Doctor  Allopathic & Osteopathic Physicians|General Pr...   \n",
       "2         Medical Doctor  Allopathic & Osteopathic Physicians|General Pr...   \n",
       "3   Doctor of Osteopathy  Allopathic & Osteopathic Physicians|General Pr...   \n",
       "4   Doctor of Osteopathy  Allopathic & Osteopathic Physicians|Surgery|Pl...   \n",
       "\n",
       "  Applicable_Manufacturer_or_Applicable_GPO_Making_Payment_Name  \\\n",
       "0                          Bovie Medical Corporation              \n",
       "1                          Mission Pharmacal Company              \n",
       "2                          Mission Pharmacal Company              \n",
       "3                          Mission Pharmacal Company              \n",
       "4                          Bovie Medical Corporation              \n",
       "\n",
       "   Total_Amount_of_Payment_USDollars       Covered_Recipient_Type  Research  \n",
       "0                              22.43  Covered Recipient Physician       0.0  \n",
       "1                              22.17  Covered Recipient Physician       0.0  \n",
       "2                              23.53  Covered Recipient Physician       0.0  \n",
       "3                              17.82  Covered Recipient Physician       0.0  \n",
       "4                               3.88  Covered Recipient Physician       0.0  "
      ]
     },
     "execution_count": 36,
     "metadata": {},
     "output_type": "execute_result"
    }
   ],
   "source": [
    "general_data.head()"
   ]
  },
  {
   "cell_type": "code",
   "execution_count": 37,
   "metadata": {},
   "outputs": [
    {
     "data": {
      "text/html": [
       "<div>\n",
       "<style scoped>\n",
       "    .dataframe tbody tr th:only-of-type {\n",
       "        vertical-align: middle;\n",
       "    }\n",
       "\n",
       "    .dataframe tbody tr th {\n",
       "        vertical-align: top;\n",
       "    }\n",
       "\n",
       "    .dataframe thead th {\n",
       "        text-align: right;\n",
       "    }\n",
       "</style>\n",
       "<table border=\"1\" class=\"dataframe\">\n",
       "  <thead>\n",
       "    <tr style=\"text-align: right;\">\n",
       "      <th></th>\n",
       "      <th>Record_ID</th>\n",
       "      <th>Teaching_Hospital_Name</th>\n",
       "      <th>Physician_First_Name</th>\n",
       "      <th>Physician_Last_Name</th>\n",
       "      <th>Physician_Primary_Type</th>\n",
       "      <th>Recipient_State</th>\n",
       "      <th>Recipient_Zip_Code</th>\n",
       "      <th>Recipient_Country</th>\n",
       "      <th>Physician_Primary_Type</th>\n",
       "      <th>Physician_Specialty</th>\n",
       "      <th>Applicable_Manufacturer_or_Applicable_GPO_Making_Payment_Name</th>\n",
       "      <th>Total_Amount_of_Payment_USDollars</th>\n",
       "      <th>Covered_Recipient_Type</th>\n",
       "      <th>Research</th>\n",
       "    </tr>\n",
       "  </thead>\n",
       "  <tbody>\n",
       "    <tr>\n",
       "      <th>0</th>\n",
       "      <td>493381041</td>\n",
       "      <td>GRADY MEMORIAL HOSPITAL</td>\n",
       "      <td>NaN</td>\n",
       "      <td>NaN</td>\n",
       "      <td>NaN</td>\n",
       "      <td>GA</td>\n",
       "      <td>30303</td>\n",
       "      <td>United States</td>\n",
       "      <td>NaN</td>\n",
       "      <td>NaN</td>\n",
       "      <td>Pharmacyclics LLC, An AbbVie Company</td>\n",
       "      <td>50.0</td>\n",
       "      <td>Covered Recipient Teaching Hospital</td>\n",
       "      <td>1.0</td>\n",
       "    </tr>\n",
       "    <tr>\n",
       "      <th>1</th>\n",
       "      <td>455805444</td>\n",
       "      <td>ST. FRANCIS HOSPITAL</td>\n",
       "      <td>NaN</td>\n",
       "      <td>NaN</td>\n",
       "      <td>NaN</td>\n",
       "      <td>WI</td>\n",
       "      <td>53215</td>\n",
       "      <td>United States</td>\n",
       "      <td>NaN</td>\n",
       "      <td>NaN</td>\n",
       "      <td>Biogen, Inc.</td>\n",
       "      <td>5.0</td>\n",
       "      <td>Covered Recipient Teaching Hospital</td>\n",
       "      <td>1.0</td>\n",
       "    </tr>\n",
       "    <tr>\n",
       "      <th>2</th>\n",
       "      <td>501931627</td>\n",
       "      <td>NaN</td>\n",
       "      <td>BERNARD</td>\n",
       "      <td>STULBERG</td>\n",
       "      <td>Medical Doctor</td>\n",
       "      <td>OH</td>\n",
       "      <td>44139-2839</td>\n",
       "      <td>United States</td>\n",
       "      <td>Medical Doctor</td>\n",
       "      <td>Allopathic &amp; Osteopathic Physicians|Orthopaedi...</td>\n",
       "      <td>Corin USA</td>\n",
       "      <td>800.0</td>\n",
       "      <td>Covered Recipient Physician</td>\n",
       "      <td>1.0</td>\n",
       "    </tr>\n",
       "    <tr>\n",
       "      <th>3</th>\n",
       "      <td>501847091</td>\n",
       "      <td>U OF U HOSPITALS &amp; CLINICS</td>\n",
       "      <td>NaN</td>\n",
       "      <td>NaN</td>\n",
       "      <td>NaN</td>\n",
       "      <td>UT</td>\n",
       "      <td>84132</td>\n",
       "      <td>United States</td>\n",
       "      <td>NaN</td>\n",
       "      <td>NaN</td>\n",
       "      <td>Pfizer Inc.</td>\n",
       "      <td>600.0</td>\n",
       "      <td>Covered Recipient Teaching Hospital</td>\n",
       "      <td>1.0</td>\n",
       "    </tr>\n",
       "    <tr>\n",
       "      <th>4</th>\n",
       "      <td>446594329</td>\n",
       "      <td>DANBURY HOSPITAL</td>\n",
       "      <td>NaN</td>\n",
       "      <td>NaN</td>\n",
       "      <td>NaN</td>\n",
       "      <td>CT</td>\n",
       "      <td>06810-6099</td>\n",
       "      <td>United States</td>\n",
       "      <td>NaN</td>\n",
       "      <td>NaN</td>\n",
       "      <td>Boston Scientific Corporation</td>\n",
       "      <td>2652.0</td>\n",
       "      <td>Covered Recipient Teaching Hospital</td>\n",
       "      <td>1.0</td>\n",
       "    </tr>\n",
       "  </tbody>\n",
       "</table>\n",
       "</div>"
      ],
      "text/plain": [
       "   Record_ID      Teaching_Hospital_Name Physician_First_Name  \\\n",
       "0  493381041     GRADY MEMORIAL HOSPITAL                  NaN   \n",
       "1  455805444        ST. FRANCIS HOSPITAL                  NaN   \n",
       "2  501931627                         NaN              BERNARD   \n",
       "3  501847091  U OF U HOSPITALS & CLINICS                  NaN   \n",
       "4  446594329            DANBURY HOSPITAL                  NaN   \n",
       "\n",
       "  Physician_Last_Name Physician_Primary_Type Recipient_State  \\\n",
       "0                 NaN                    NaN              GA   \n",
       "1                 NaN                    NaN              WI   \n",
       "2            STULBERG         Medical Doctor              OH   \n",
       "3                 NaN                    NaN              UT   \n",
       "4                 NaN                    NaN              CT   \n",
       "\n",
       "  Recipient_Zip_Code Recipient_Country Physician_Primary_Type  \\\n",
       "0              30303     United States                    NaN   \n",
       "1              53215     United States                    NaN   \n",
       "2         44139-2839     United States         Medical Doctor   \n",
       "3              84132     United States                    NaN   \n",
       "4         06810-6099     United States                    NaN   \n",
       "\n",
       "                                 Physician_Specialty  \\\n",
       "0                                                NaN   \n",
       "1                                                NaN   \n",
       "2  Allopathic & Osteopathic Physicians|Orthopaedi...   \n",
       "3                                                NaN   \n",
       "4                                                NaN   \n",
       "\n",
       "  Applicable_Manufacturer_or_Applicable_GPO_Making_Payment_Name  \\\n",
       "0               Pharmacyclics LLC, An AbbVie Company              \n",
       "1                                       Biogen, Inc.              \n",
       "2                                          Corin USA              \n",
       "3                                        Pfizer Inc.              \n",
       "4                      Boston Scientific Corporation              \n",
       "\n",
       "   Total_Amount_of_Payment_USDollars               Covered_Recipient_Type  \\\n",
       "0                               50.0  Covered Recipient Teaching Hospital   \n",
       "1                                5.0  Covered Recipient Teaching Hospital   \n",
       "2                              800.0          Covered Recipient Physician   \n",
       "3                              600.0  Covered Recipient Teaching Hospital   \n",
       "4                             2652.0  Covered Recipient Teaching Hospital   \n",
       "\n",
       "   Research  \n",
       "0       1.0  \n",
       "1       1.0  \n",
       "2       1.0  \n",
       "3       1.0  \n",
       "4       1.0  "
      ]
     },
     "execution_count": 37,
     "metadata": {},
     "output_type": "execute_result"
    }
   ],
   "source": [
    "research_data.head()"
   ]
  },
  {
   "cell_type": "code",
   "execution_count": 38,
   "metadata": {},
   "outputs": [
    {
     "name": "stdout",
     "output_type": "stream",
     "text": [
      "(11893221, 14)\n"
     ]
    }
   ],
   "source": [
    "#Join datasets\n",
    "\n",
    "total=[general_data,research_data]\n",
    "cms_data=pd.concat(total)\n",
    "print(cms_data.shape)"
   ]
  },
  {
   "cell_type": "markdown",
   "metadata": {},
   "source": [
    "<p><a name=\"cleaning\"></a></p>\n",
    "\n",
    "## <i>2. Assess Data Quality & Missing Values</i>"
   ]
  },
  {
   "cell_type": "code",
   "execution_count": 39,
   "metadata": {},
   "outputs": [
    {
     "data": {
      "text/plain": [
       "Record_ID                                                               0\n",
       "Teaching_Hospital_Name                                           11746376\n",
       "Physician_First_Name                                               667289\n",
       "Physician_Last_Name                                                667457\n",
       "Physician_Primary_Type                                             667161\n",
       "Recipient_State                                                      1570\n",
       "Recipient_Zip_Code                                                   1570\n",
       "Recipient_Country                                                     659\n",
       "Physician_Primary_Type                                             667161\n",
       "Physician_Specialty                                                681054\n",
       "Applicable_Manufacturer_or_Applicable_GPO_Making_Payment_Name           0\n",
       "Total_Amount_of_Payment_USDollars                                       0\n",
       "Covered_Recipient_Type                                                  0\n",
       "Research                                                                0\n",
       "dtype: int64"
      ]
     },
     "execution_count": 39,
     "metadata": {},
     "output_type": "execute_result"
    }
   ],
   "source": [
    "#Determine the cleaness of the dataset and missing values \n",
    "\n",
    "cms_data.isnull().sum()"
   ]
  },
  {
   "cell_type": "code",
   "execution_count": 40,
   "metadata": {},
   "outputs": [
    {
     "name": "stdout",
     "output_type": "stream",
     "text": [
      "(11893221, 14)\n"
     ]
    },
    {
     "data": {
      "text/plain": [
       "Record_ID                                                               0\n",
       "Teaching_Hospital_Name                                           11746376\n",
       "Physician_First_Name                                               667289\n",
       "Physician_Last_Name                                                667457\n",
       "Physician_Primary_Type                                                  0\n",
       "Recipient_State                                                      1570\n",
       "Recipient_Zip_Code                                                   1570\n",
       "Recipient_Country                                                     659\n",
       "Physician_Primary_Type                                                  0\n",
       "Physician_Specialty                                                681054\n",
       "Applicable_Manufacturer_or_Applicable_GPO_Making_Payment_Name           0\n",
       "Total_Amount_of_Payment_USDollars                                       0\n",
       "Covered_Recipient_Type                                                  0\n",
       "Research                                                                0\n",
       "dtype: int64"
      ]
     },
     "execution_count": 40,
     "metadata": {},
     "output_type": "execute_result"
    }
   ],
   "source": [
    "#Clean null values on key categorical attributes\n",
    "\n",
    "cms_data['Physician_Primary_Type'] = cms_data['Physician_Primary_Type'].fillna('Not a Physician')\n",
    "print(cms_data.shape)\n",
    "cms_data.isnull().sum()"
   ]
  },
  {
   "cell_type": "markdown",
   "metadata": {},
   "source": [
    "<p><a name=\"exploratory\"></a></p>\n",
    "\n",
    "## <i>3. Exploratory Data Analysis</i>"
   ]
  },
  {
   "cell_type": "markdown",
   "metadata": {},
   "source": [
    "#### 3.1. Sampling and Feature Analysis"
   ]
  },
  {
   "cell_type": "code",
   "execution_count": 41,
   "metadata": {},
   "outputs": [
    {
     "name": "stdout",
     "output_type": "stream",
     "text": [
      "(883282, 14)\n"
     ]
    },
    {
     "data": {
      "text/html": [
       "<div>\n",
       "<style scoped>\n",
       "    .dataframe tbody tr th:only-of-type {\n",
       "        vertical-align: middle;\n",
       "    }\n",
       "\n",
       "    .dataframe tbody tr th {\n",
       "        vertical-align: top;\n",
       "    }\n",
       "\n",
       "    .dataframe thead th {\n",
       "        text-align: right;\n",
       "    }\n",
       "</style>\n",
       "<table border=\"1\" class=\"dataframe\">\n",
       "  <thead>\n",
       "    <tr style=\"text-align: right;\">\n",
       "      <th></th>\n",
       "      <th>Record_ID</th>\n",
       "      <th>Teaching_Hospital_Name</th>\n",
       "      <th>Physician_First_Name</th>\n",
       "      <th>Physician_Last_Name</th>\n",
       "      <th>Physician_Primary_Type</th>\n",
       "      <th>Recipient_State</th>\n",
       "      <th>Recipient_Zip_Code</th>\n",
       "      <th>Recipient_Country</th>\n",
       "      <th>Physician_Primary_Type</th>\n",
       "      <th>Physician_Specialty</th>\n",
       "      <th>Applicable_Manufacturer_or_Applicable_GPO_Making_Payment_Name</th>\n",
       "      <th>Total_Amount_of_Payment_USDollars</th>\n",
       "      <th>Covered_Recipient_Type</th>\n",
       "      <th>Research</th>\n",
       "    </tr>\n",
       "  </thead>\n",
       "  <tbody>\n",
       "    <tr>\n",
       "      <th>3795497</th>\n",
       "      <td>480432169</td>\n",
       "      <td>NaN</td>\n",
       "      <td>MITCHELL</td>\n",
       "      <td>RUBINOFF</td>\n",
       "      <td>Medical Doctor</td>\n",
       "      <td>NJ</td>\n",
       "      <td>07450</td>\n",
       "      <td>United States</td>\n",
       "      <td>Medical Doctor</td>\n",
       "      <td>Allopathic &amp; Osteopathic Physicians|Internal M...</td>\n",
       "      <td>Gilead Sciences Inc</td>\n",
       "      <td>15.28</td>\n",
       "      <td>Covered Recipient Physician</td>\n",
       "      <td>0.0</td>\n",
       "    </tr>\n",
       "    <tr>\n",
       "      <th>1551185</th>\n",
       "      <td>495147897</td>\n",
       "      <td>NaN</td>\n",
       "      <td>SHARAD</td>\n",
       "      <td>BHATT</td>\n",
       "      <td>Medical Doctor</td>\n",
       "      <td>OH</td>\n",
       "      <td>44720-3625</td>\n",
       "      <td>United States</td>\n",
       "      <td>Medical Doctor</td>\n",
       "      <td>Allopathic &amp; Osteopathic Physicians|Psychiatry...</td>\n",
       "      <td>ACADIA Pharmaceuticals Inc</td>\n",
       "      <td>13.77</td>\n",
       "      <td>Covered Recipient Physician</td>\n",
       "      <td>0.0</td>\n",
       "    </tr>\n",
       "    <tr>\n",
       "      <th>10416370</th>\n",
       "      <td>479530501</td>\n",
       "      <td>NaN</td>\n",
       "      <td>JAVIER</td>\n",
       "      <td>ROCA</td>\n",
       "      <td>Medical Doctor</td>\n",
       "      <td>NY</td>\n",
       "      <td>11366</td>\n",
       "      <td>United States</td>\n",
       "      <td>Medical Doctor</td>\n",
       "      <td>Allopathic &amp; Osteopathic Physicians|Internal M...</td>\n",
       "      <td>GlaxoSmithKline, LLC.</td>\n",
       "      <td>16.92</td>\n",
       "      <td>Covered Recipient Physician</td>\n",
       "      <td>0.0</td>\n",
       "    </tr>\n",
       "    <tr>\n",
       "      <th>5198543</th>\n",
       "      <td>479068429</td>\n",
       "      <td>NaN</td>\n",
       "      <td>MARK</td>\n",
       "      <td>HIGGINS</td>\n",
       "      <td>Medical Doctor</td>\n",
       "      <td>CA</td>\n",
       "      <td>94114</td>\n",
       "      <td>United States</td>\n",
       "      <td>Medical Doctor</td>\n",
       "      <td>Allopathic &amp; Osteopathic Physicians|Internal M...</td>\n",
       "      <td>ViiV Healthcare Company</td>\n",
       "      <td>21.84</td>\n",
       "      <td>Covered Recipient Physician</td>\n",
       "      <td>0.0</td>\n",
       "    </tr>\n",
       "    <tr>\n",
       "      <th>7797335</th>\n",
       "      <td>452865989</td>\n",
       "      <td>NaN</td>\n",
       "      <td>FRANCISCO</td>\n",
       "      <td>BARRERA</td>\n",
       "      <td>Medical Doctor</td>\n",
       "      <td>TX</td>\n",
       "      <td>78229</td>\n",
       "      <td>United States</td>\n",
       "      <td>Medical Doctor</td>\n",
       "      <td>Allopathic &amp; Osteopathic Physicians|Family Med...</td>\n",
       "      <td>Abbott Laboratories</td>\n",
       "      <td>23.02</td>\n",
       "      <td>Covered Recipient Physician</td>\n",
       "      <td>0.0</td>\n",
       "    </tr>\n",
       "    <tr>\n",
       "      <th>4505346</th>\n",
       "      <td>468758899</td>\n",
       "      <td>NaN</td>\n",
       "      <td>MARTA</td>\n",
       "      <td>MOLINA</td>\n",
       "      <td>Medical Doctor</td>\n",
       "      <td>TX</td>\n",
       "      <td>77546</td>\n",
       "      <td>United States</td>\n",
       "      <td>Medical Doctor</td>\n",
       "      <td>Allopathic &amp; Osteopathic Physicians|Family Med...</td>\n",
       "      <td>Novo Nordisk Inc</td>\n",
       "      <td>12.21</td>\n",
       "      <td>Covered Recipient Physician</td>\n",
       "      <td>0.0</td>\n",
       "    </tr>\n",
       "    <tr>\n",
       "      <th>210201</th>\n",
       "      <td>453648459</td>\n",
       "      <td>NaN</td>\n",
       "      <td>MARK</td>\n",
       "      <td>BLECHER</td>\n",
       "      <td>Medical Doctor</td>\n",
       "      <td>PA</td>\n",
       "      <td>19148-1536</td>\n",
       "      <td>United States</td>\n",
       "      <td>Medical Doctor</td>\n",
       "      <td>Allopathic &amp; Osteopathic Physicians|Ophthalmology</td>\n",
       "      <td>Johnson &amp; Johnson Surgical Vision, Inc.</td>\n",
       "      <td>51.98</td>\n",
       "      <td>Covered Recipient Physician</td>\n",
       "      <td>0.0</td>\n",
       "    </tr>\n",
       "    <tr>\n",
       "      <th>7083292</th>\n",
       "      <td>505607781</td>\n",
       "      <td>NaN</td>\n",
       "      <td>BRICE</td>\n",
       "      <td>BECKSTROM</td>\n",
       "      <td>Doctor of Dentistry</td>\n",
       "      <td>UT</td>\n",
       "      <td>84765</td>\n",
       "      <td>United States</td>\n",
       "      <td>Doctor of Dentistry</td>\n",
       "      <td>Dental Providers|Dentist|Orthodontics and Dent...</td>\n",
       "      <td>Ormco Corporation</td>\n",
       "      <td>0.57</td>\n",
       "      <td>Covered Recipient Physician</td>\n",
       "      <td>0.0</td>\n",
       "    </tr>\n",
       "    <tr>\n",
       "      <th>814645</th>\n",
       "      <td>479232719</td>\n",
       "      <td>NaN</td>\n",
       "      <td>ROBERT</td>\n",
       "      <td>FELDMAN</td>\n",
       "      <td>Medical Doctor</td>\n",
       "      <td>NY</td>\n",
       "      <td>13066</td>\n",
       "      <td>United States</td>\n",
       "      <td>Medical Doctor</td>\n",
       "      <td>Allopathic &amp; Osteopathic Physicians|Family Med...</td>\n",
       "      <td>GlaxoSmithKline, LLC.</td>\n",
       "      <td>9.82</td>\n",
       "      <td>Covered Recipient Physician</td>\n",
       "      <td>0.0</td>\n",
       "    </tr>\n",
       "    <tr>\n",
       "      <th>6541274</th>\n",
       "      <td>499316973</td>\n",
       "      <td>NaN</td>\n",
       "      <td>LAWRENCE</td>\n",
       "      <td>EICHENFIELD</td>\n",
       "      <td>Medical Doctor</td>\n",
       "      <td>CA</td>\n",
       "      <td>92123-2778</td>\n",
       "      <td>United States</td>\n",
       "      <td>Medical Doctor</td>\n",
       "      <td>Allopathic &amp; Osteopathic Physicians|Dermatolog...</td>\n",
       "      <td>LEO Pharma AS</td>\n",
       "      <td>118.44</td>\n",
       "      <td>Covered Recipient Physician</td>\n",
       "      <td>0.0</td>\n",
       "    </tr>\n",
       "    <tr>\n",
       "      <th>2898289</th>\n",
       "      <td>475190529</td>\n",
       "      <td>NaN</td>\n",
       "      <td>FRANK</td>\n",
       "      <td>SAILORS</td>\n",
       "      <td>Doctor of Osteopathy</td>\n",
       "      <td>OH</td>\n",
       "      <td>44057</td>\n",
       "      <td>United States</td>\n",
       "      <td>Doctor of Osteopathy</td>\n",
       "      <td>Allopathic &amp; Osteopathic Physicians|Family Med...</td>\n",
       "      <td>Novo Nordisk Inc</td>\n",
       "      <td>10.78</td>\n",
       "      <td>Covered Recipient Physician</td>\n",
       "      <td>0.0</td>\n",
       "    </tr>\n",
       "    <tr>\n",
       "      <th>11207972</th>\n",
       "      <td>478316465</td>\n",
       "      <td>NaN</td>\n",
       "      <td>MARCUS</td>\n",
       "      <td>MAGNET</td>\n",
       "      <td>Medical Doctor</td>\n",
       "      <td>NJ</td>\n",
       "      <td>08096</td>\n",
       "      <td>United States</td>\n",
       "      <td>Medical Doctor</td>\n",
       "      <td>Allopathic &amp; Osteopathic Physicians|Family Med...</td>\n",
       "      <td>Amgen Inc.</td>\n",
       "      <td>23.02</td>\n",
       "      <td>Covered Recipient Physician</td>\n",
       "      <td>0.0</td>\n",
       "    </tr>\n",
       "    <tr>\n",
       "      <th>8206718</th>\n",
       "      <td>468380945</td>\n",
       "      <td>NaN</td>\n",
       "      <td>ROBERT</td>\n",
       "      <td>BURTON</td>\n",
       "      <td>Medical Doctor</td>\n",
       "      <td>IN</td>\n",
       "      <td>46706</td>\n",
       "      <td>United States</td>\n",
       "      <td>Medical Doctor</td>\n",
       "      <td>Allopathic &amp; Osteopathic Physicians|Family Med...</td>\n",
       "      <td>Novo Nordisk Inc</td>\n",
       "      <td>2.97</td>\n",
       "      <td>Covered Recipient Physician</td>\n",
       "      <td>0.0</td>\n",
       "    </tr>\n",
       "    <tr>\n",
       "      <th>5653033</th>\n",
       "      <td>506198329</td>\n",
       "      <td>NaN</td>\n",
       "      <td>AMIE</td>\n",
       "      <td>ETTERS</td>\n",
       "      <td>Medical Doctor</td>\n",
       "      <td>MO</td>\n",
       "      <td>65360-1161</td>\n",
       "      <td>United States</td>\n",
       "      <td>Medical Doctor</td>\n",
       "      <td>Allopathic &amp; Osteopathic Physicians|Family Med...</td>\n",
       "      <td>Orexigen Therapeutics, Inc.</td>\n",
       "      <td>14.00</td>\n",
       "      <td>Covered Recipient Physician</td>\n",
       "      <td>0.0</td>\n",
       "    </tr>\n",
       "    <tr>\n",
       "      <th>540967</th>\n",
       "      <td>509846495</td>\n",
       "      <td>NaN</td>\n",
       "      <td>NaN</td>\n",
       "      <td>NaN</td>\n",
       "      <td>Not a Physician</td>\n",
       "      <td>FL</td>\n",
       "      <td>34638</td>\n",
       "      <td>United States</td>\n",
       "      <td>Not a Physician</td>\n",
       "      <td>NaN</td>\n",
       "      <td>BIOTRONIK INC.</td>\n",
       "      <td>175.00</td>\n",
       "      <td>Non-covered Recipient Entity</td>\n",
       "      <td>1.0</td>\n",
       "    </tr>\n",
       "    <tr>\n",
       "      <th>11072367</th>\n",
       "      <td>504823789</td>\n",
       "      <td>NaN</td>\n",
       "      <td>GEORGE</td>\n",
       "      <td>ZUREIKAT</td>\n",
       "      <td>Medical Doctor</td>\n",
       "      <td>MI</td>\n",
       "      <td>48503-5902</td>\n",
       "      <td>United States</td>\n",
       "      <td>Medical Doctor</td>\n",
       "      <td>Allopathic &amp; Osteopathic Physicians|Pediatrics...</td>\n",
       "      <td>Novartis Pharmaceuticals Corporation</td>\n",
       "      <td>15.53</td>\n",
       "      <td>Covered Recipient Physician</td>\n",
       "      <td>0.0</td>\n",
       "    </tr>\n",
       "    <tr>\n",
       "      <th>3274416</th>\n",
       "      <td>448206523</td>\n",
       "      <td>NaN</td>\n",
       "      <td>RICKY</td>\n",
       "      <td>HSU</td>\n",
       "      <td>Medical Doctor</td>\n",
       "      <td>NY</td>\n",
       "      <td>10001-5411</td>\n",
       "      <td>United States</td>\n",
       "      <td>Medical Doctor</td>\n",
       "      <td>Allopathic &amp; Osteopathic Physicians|Internal M...</td>\n",
       "      <td>Janssen Scientific Affairs, LLC</td>\n",
       "      <td>31.34</td>\n",
       "      <td>Covered Recipient Physician</td>\n",
       "      <td>0.0</td>\n",
       "    </tr>\n",
       "    <tr>\n",
       "      <th>3783229</th>\n",
       "      <td>480450651</td>\n",
       "      <td>NaN</td>\n",
       "      <td>RICHARD</td>\n",
       "      <td>SMITH</td>\n",
       "      <td>Medical Doctor</td>\n",
       "      <td>WV</td>\n",
       "      <td>26505</td>\n",
       "      <td>United States</td>\n",
       "      <td>Medical Doctor</td>\n",
       "      <td>Allopathic &amp; Osteopathic Physicians|Internal M...</td>\n",
       "      <td>Gilead Sciences Inc</td>\n",
       "      <td>13.06</td>\n",
       "      <td>Covered Recipient Physician</td>\n",
       "      <td>0.0</td>\n",
       "    </tr>\n",
       "    <tr>\n",
       "      <th>8073375</th>\n",
       "      <td>488634729</td>\n",
       "      <td>NaN</td>\n",
       "      <td>LAUREN</td>\n",
       "      <td>FROST</td>\n",
       "      <td>Medical Doctor</td>\n",
       "      <td>FL</td>\n",
       "      <td>33143</td>\n",
       "      <td>United States</td>\n",
       "      <td>Medical Doctor</td>\n",
       "      <td>Allopathic &amp; Osteopathic Physicians|Internal M...</td>\n",
       "      <td>E.R. Squibb &amp; Sons, L.L.C.</td>\n",
       "      <td>6.25</td>\n",
       "      <td>Covered Recipient Physician</td>\n",
       "      <td>0.0</td>\n",
       "    </tr>\n",
       "    <tr>\n",
       "      <th>6896975</th>\n",
       "      <td>501801827</td>\n",
       "      <td>NaN</td>\n",
       "      <td>WALTER</td>\n",
       "      <td>DOUGLASS</td>\n",
       "      <td>Medical Doctor</td>\n",
       "      <td>SC</td>\n",
       "      <td>29303</td>\n",
       "      <td>United States</td>\n",
       "      <td>Medical Doctor</td>\n",
       "      <td>Allopathic &amp; Osteopathic Physicians|Internal M...</td>\n",
       "      <td>Echosens North America, Inc.</td>\n",
       "      <td>47.63</td>\n",
       "      <td>Covered Recipient Physician</td>\n",
       "      <td>0.0</td>\n",
       "    </tr>\n",
       "    <tr>\n",
       "      <th>3442669</th>\n",
       "      <td>445817035</td>\n",
       "      <td>NaN</td>\n",
       "      <td>Judy</td>\n",
       "      <td>Magnusson</td>\n",
       "      <td>Doctor of Osteopathy</td>\n",
       "      <td>OK</td>\n",
       "      <td>73134-1006</td>\n",
       "      <td>United States</td>\n",
       "      <td>Doctor of Osteopathy</td>\n",
       "      <td>Allopathic &amp; Osteopathic Physicians|Family Med...</td>\n",
       "      <td>AstraZeneca Pharmaceuticals LP</td>\n",
       "      <td>16.39</td>\n",
       "      <td>Covered Recipient Physician</td>\n",
       "      <td>0.0</td>\n",
       "    </tr>\n",
       "    <tr>\n",
       "      <th>2010377</th>\n",
       "      <td>444521211</td>\n",
       "      <td>NaN</td>\n",
       "      <td>DAVID</td>\n",
       "      <td>PARKER</td>\n",
       "      <td>Doctor of Optometry</td>\n",
       "      <td>AL</td>\n",
       "      <td>35758-2220</td>\n",
       "      <td>United States</td>\n",
       "      <td>Doctor of Optometry</td>\n",
       "      <td>Eye and Vision Services Providers|Optometrist</td>\n",
       "      <td>Valeant Pharmaceuticals North America LLC</td>\n",
       "      <td>10.53</td>\n",
       "      <td>Covered Recipient Physician</td>\n",
       "      <td>0.0</td>\n",
       "    </tr>\n",
       "    <tr>\n",
       "      <th>10146119</th>\n",
       "      <td>458514727</td>\n",
       "      <td>NaN</td>\n",
       "      <td>JEFFREY</td>\n",
       "      <td>FROMOWITZ</td>\n",
       "      <td>Medical Doctor</td>\n",
       "      <td>FL</td>\n",
       "      <td>33431</td>\n",
       "      <td>United States</td>\n",
       "      <td>Medical Doctor</td>\n",
       "      <td>Allopathic &amp; Osteopathic Physicians|Dermatology</td>\n",
       "      <td>Aqua Pharmaceuticals</td>\n",
       "      <td>17.51</td>\n",
       "      <td>Covered Recipient Physician</td>\n",
       "      <td>0.0</td>\n",
       "    </tr>\n",
       "    <tr>\n",
       "      <th>3638100</th>\n",
       "      <td>458648165</td>\n",
       "      <td>NaN</td>\n",
       "      <td>MATTHEW</td>\n",
       "      <td>CALL</td>\n",
       "      <td>Doctor of Osteopathy</td>\n",
       "      <td>UT</td>\n",
       "      <td>84132-0001</td>\n",
       "      <td>United States</td>\n",
       "      <td>Doctor of Osteopathy</td>\n",
       "      <td>Allopathic &amp; Osteopathic Physicians|Internal M...</td>\n",
       "      <td>MEDAC PHARMA, INC.</td>\n",
       "      <td>6.23</td>\n",
       "      <td>Covered Recipient Physician</td>\n",
       "      <td>0.0</td>\n",
       "    </tr>\n",
       "    <tr>\n",
       "      <th>3557917</th>\n",
       "      <td>448526487</td>\n",
       "      <td>NaN</td>\n",
       "      <td>FOUAD</td>\n",
       "      <td>ATALLA</td>\n",
       "      <td>Medical Doctor</td>\n",
       "      <td>KY</td>\n",
       "      <td>42101-2220</td>\n",
       "      <td>United States</td>\n",
       "      <td>Medical Doctor</td>\n",
       "      <td>Allopathic &amp; Osteopathic Physicians|Plastic Su...</td>\n",
       "      <td>Mentor Worldwide LLC</td>\n",
       "      <td>12.34</td>\n",
       "      <td>Covered Recipient Physician</td>\n",
       "      <td>0.0</td>\n",
       "    </tr>\n",
       "  </tbody>\n",
       "</table>\n",
       "</div>"
      ],
      "text/plain": [
       "          Record_ID Teaching_Hospital_Name Physician_First_Name  \\\n",
       "3795497   480432169                    NaN             MITCHELL   \n",
       "1551185   495147897                    NaN               SHARAD   \n",
       "10416370  479530501                    NaN               JAVIER   \n",
       "5198543   479068429                    NaN                 MARK   \n",
       "7797335   452865989                    NaN            FRANCISCO   \n",
       "4505346   468758899                    NaN                MARTA   \n",
       "210201    453648459                    NaN                 MARK   \n",
       "7083292   505607781                    NaN                BRICE   \n",
       "814645    479232719                    NaN               ROBERT   \n",
       "6541274   499316973                    NaN             LAWRENCE   \n",
       "2898289   475190529                    NaN                FRANK   \n",
       "11207972  478316465                    NaN               MARCUS   \n",
       "8206718   468380945                    NaN               ROBERT   \n",
       "5653033   506198329                    NaN                 AMIE   \n",
       "540967    509846495                    NaN                  NaN   \n",
       "11072367  504823789                    NaN               GEORGE   \n",
       "3274416   448206523                    NaN                RICKY   \n",
       "3783229   480450651                    NaN              RICHARD   \n",
       "8073375   488634729                    NaN               LAUREN   \n",
       "6896975   501801827                    NaN               WALTER   \n",
       "3442669   445817035                    NaN                 Judy   \n",
       "2010377   444521211                    NaN                DAVID   \n",
       "10146119  458514727                    NaN              JEFFREY   \n",
       "3638100   458648165                    NaN              MATTHEW   \n",
       "3557917   448526487                    NaN                FOUAD   \n",
       "\n",
       "         Physician_Last_Name Physician_Primary_Type Recipient_State  \\\n",
       "3795497             RUBINOFF         Medical Doctor              NJ   \n",
       "1551185                BHATT         Medical Doctor              OH   \n",
       "10416370                ROCA         Medical Doctor              NY   \n",
       "5198543              HIGGINS         Medical Doctor              CA   \n",
       "7797335              BARRERA         Medical Doctor              TX   \n",
       "4505346               MOLINA         Medical Doctor              TX   \n",
       "210201               BLECHER         Medical Doctor              PA   \n",
       "7083292            BECKSTROM    Doctor of Dentistry              UT   \n",
       "814645               FELDMAN         Medical Doctor              NY   \n",
       "6541274          EICHENFIELD         Medical Doctor              CA   \n",
       "2898289              SAILORS   Doctor of Osteopathy              OH   \n",
       "11207972              MAGNET         Medical Doctor              NJ   \n",
       "8206718               BURTON         Medical Doctor              IN   \n",
       "5653033               ETTERS         Medical Doctor              MO   \n",
       "540967                   NaN        Not a Physician              FL   \n",
       "11072367            ZUREIKAT         Medical Doctor              MI   \n",
       "3274416                  HSU         Medical Doctor              NY   \n",
       "3783229                SMITH         Medical Doctor              WV   \n",
       "8073375                FROST         Medical Doctor              FL   \n",
       "6896975             DOUGLASS         Medical Doctor              SC   \n",
       "3442669            Magnusson   Doctor of Osteopathy              OK   \n",
       "2010377               PARKER    Doctor of Optometry              AL   \n",
       "10146119           FROMOWITZ         Medical Doctor              FL   \n",
       "3638100                 CALL   Doctor of Osteopathy              UT   \n",
       "3557917               ATALLA         Medical Doctor              KY   \n",
       "\n",
       "         Recipient_Zip_Code Recipient_Country Physician_Primary_Type  \\\n",
       "3795497               07450     United States         Medical Doctor   \n",
       "1551185          44720-3625     United States         Medical Doctor   \n",
       "10416370              11366     United States         Medical Doctor   \n",
       "5198543               94114     United States         Medical Doctor   \n",
       "7797335               78229     United States         Medical Doctor   \n",
       "4505346               77546     United States         Medical Doctor   \n",
       "210201           19148-1536     United States         Medical Doctor   \n",
       "7083292               84765     United States    Doctor of Dentistry   \n",
       "814645                13066     United States         Medical Doctor   \n",
       "6541274          92123-2778     United States         Medical Doctor   \n",
       "2898289               44057     United States   Doctor of Osteopathy   \n",
       "11207972              08096     United States         Medical Doctor   \n",
       "8206718               46706     United States         Medical Doctor   \n",
       "5653033          65360-1161     United States         Medical Doctor   \n",
       "540967                34638     United States        Not a Physician   \n",
       "11072367         48503-5902     United States         Medical Doctor   \n",
       "3274416          10001-5411     United States         Medical Doctor   \n",
       "3783229               26505     United States         Medical Doctor   \n",
       "8073375               33143     United States         Medical Doctor   \n",
       "6896975               29303     United States         Medical Doctor   \n",
       "3442669          73134-1006     United States   Doctor of Osteopathy   \n",
       "2010377          35758-2220     United States    Doctor of Optometry   \n",
       "10146119              33431     United States         Medical Doctor   \n",
       "3638100          84132-0001     United States   Doctor of Osteopathy   \n",
       "3557917          42101-2220     United States         Medical Doctor   \n",
       "\n",
       "                                        Physician_Specialty  \\\n",
       "3795497   Allopathic & Osteopathic Physicians|Internal M...   \n",
       "1551185   Allopathic & Osteopathic Physicians|Psychiatry...   \n",
       "10416370  Allopathic & Osteopathic Physicians|Internal M...   \n",
       "5198543   Allopathic & Osteopathic Physicians|Internal M...   \n",
       "7797335   Allopathic & Osteopathic Physicians|Family Med...   \n",
       "4505346   Allopathic & Osteopathic Physicians|Family Med...   \n",
       "210201    Allopathic & Osteopathic Physicians|Ophthalmology   \n",
       "7083292   Dental Providers|Dentist|Orthodontics and Dent...   \n",
       "814645    Allopathic & Osteopathic Physicians|Family Med...   \n",
       "6541274   Allopathic & Osteopathic Physicians|Dermatolog...   \n",
       "2898289   Allopathic & Osteopathic Physicians|Family Med...   \n",
       "11207972  Allopathic & Osteopathic Physicians|Family Med...   \n",
       "8206718   Allopathic & Osteopathic Physicians|Family Med...   \n",
       "5653033   Allopathic & Osteopathic Physicians|Family Med...   \n",
       "540967                                                  NaN   \n",
       "11072367  Allopathic & Osteopathic Physicians|Pediatrics...   \n",
       "3274416   Allopathic & Osteopathic Physicians|Internal M...   \n",
       "3783229   Allopathic & Osteopathic Physicians|Internal M...   \n",
       "8073375   Allopathic & Osteopathic Physicians|Internal M...   \n",
       "6896975   Allopathic & Osteopathic Physicians|Internal M...   \n",
       "3442669   Allopathic & Osteopathic Physicians|Family Med...   \n",
       "2010377       Eye and Vision Services Providers|Optometrist   \n",
       "10146119    Allopathic & Osteopathic Physicians|Dermatology   \n",
       "3638100   Allopathic & Osteopathic Physicians|Internal M...   \n",
       "3557917   Allopathic & Osteopathic Physicians|Plastic Su...   \n",
       "\n",
       "         Applicable_Manufacturer_or_Applicable_GPO_Making_Payment_Name  \\\n",
       "3795497                                 Gilead Sciences Inc              \n",
       "1551185                          ACADIA Pharmaceuticals Inc              \n",
       "10416370                              GlaxoSmithKline, LLC.              \n",
       "5198543                             ViiV Healthcare Company              \n",
       "7797335                                 Abbott Laboratories              \n",
       "4505346                                    Novo Nordisk Inc              \n",
       "210201              Johnson & Johnson Surgical Vision, Inc.              \n",
       "7083292                                   Ormco Corporation              \n",
       "814645                                GlaxoSmithKline, LLC.              \n",
       "6541274                                       LEO Pharma AS              \n",
       "2898289                                    Novo Nordisk Inc              \n",
       "11207972                                         Amgen Inc.              \n",
       "8206718                                    Novo Nordisk Inc              \n",
       "5653033                         Orexigen Therapeutics, Inc.              \n",
       "540967                                       BIOTRONIK INC.              \n",
       "11072367               Novartis Pharmaceuticals Corporation              \n",
       "3274416                     Janssen Scientific Affairs, LLC              \n",
       "3783229                                 Gilead Sciences Inc              \n",
       "8073375                          E.R. Squibb & Sons, L.L.C.              \n",
       "6896975                        Echosens North America, Inc.              \n",
       "3442669                      AstraZeneca Pharmaceuticals LP              \n",
       "2010377           Valeant Pharmaceuticals North America LLC              \n",
       "10146119                               Aqua Pharmaceuticals              \n",
       "3638100                                  MEDAC PHARMA, INC.              \n",
       "3557917                                Mentor Worldwide LLC              \n",
       "\n",
       "          Total_Amount_of_Payment_USDollars        Covered_Recipient_Type  \\\n",
       "3795497                               15.28   Covered Recipient Physician   \n",
       "1551185                               13.77   Covered Recipient Physician   \n",
       "10416370                              16.92   Covered Recipient Physician   \n",
       "5198543                               21.84   Covered Recipient Physician   \n",
       "7797335                               23.02   Covered Recipient Physician   \n",
       "4505346                               12.21   Covered Recipient Physician   \n",
       "210201                                51.98   Covered Recipient Physician   \n",
       "7083292                                0.57   Covered Recipient Physician   \n",
       "814645                                 9.82   Covered Recipient Physician   \n",
       "6541274                              118.44   Covered Recipient Physician   \n",
       "2898289                               10.78   Covered Recipient Physician   \n",
       "11207972                              23.02   Covered Recipient Physician   \n",
       "8206718                                2.97   Covered Recipient Physician   \n",
       "5653033                               14.00   Covered Recipient Physician   \n",
       "540967                               175.00  Non-covered Recipient Entity   \n",
       "11072367                              15.53   Covered Recipient Physician   \n",
       "3274416                               31.34   Covered Recipient Physician   \n",
       "3783229                               13.06   Covered Recipient Physician   \n",
       "8073375                                6.25   Covered Recipient Physician   \n",
       "6896975                               47.63   Covered Recipient Physician   \n",
       "3442669                               16.39   Covered Recipient Physician   \n",
       "2010377                               10.53   Covered Recipient Physician   \n",
       "10146119                              17.51   Covered Recipient Physician   \n",
       "3638100                                6.23   Covered Recipient Physician   \n",
       "3557917                               12.34   Covered Recipient Physician   \n",
       "\n",
       "          Research  \n",
       "3795497        0.0  \n",
       "1551185        0.0  \n",
       "10416370       0.0  \n",
       "5198543        0.0  \n",
       "7797335        0.0  \n",
       "4505346        0.0  \n",
       "210201         0.0  \n",
       "7083292        0.0  \n",
       "814645         0.0  \n",
       "6541274        0.0  \n",
       "2898289        0.0  \n",
       "11207972       0.0  \n",
       "8206718        0.0  \n",
       "5653033        0.0  \n",
       "540967         1.0  \n",
       "11072367       0.0  \n",
       "3274416        0.0  \n",
       "3783229        0.0  \n",
       "8073375        0.0  \n",
       "6896975        0.0  \n",
       "3442669        0.0  \n",
       "2010377        0.0  \n",
       "10146119       0.0  \n",
       "3638100        0.0  \n",
       "3557917        0.0  "
      ]
     },
     "execution_count": 41,
     "metadata": {},
     "output_type": "execute_result"
    }
   ],
   "source": [
    "#Sample size=883,282 (95% Confidence)\n",
    "\n",
    "cms_data=cms_data.sample(883282)\n",
    "print(cms_data.shape)\n",
    "cms_data.sample(25)"
   ]
  },
  {
   "cell_type": "markdown",
   "metadata": {},
   "source": [
    "#### 3.2. Exploration of Location"
   ]
  },
  {
   "cell_type": "code",
   "execution_count": 42,
   "metadata": {},
   "outputs": [
    {
     "name": "stdout",
     "output_type": "stream",
     "text": [
      "(883282, 14)\n"
     ]
    },
    {
     "data": {
      "text/plain": [
       "United States                           883158\n",
       "Great Britain (Uk)                          32\n",
       "United States Minor Outlying Islands        11\n",
       "Canada                                       9\n",
       "Mexico                                       3\n",
       "Germany                                      3\n",
       "United Arab Emirates                         2\n",
       "Japan                                        2\n",
       "Thailand                                     2\n",
       "India                                        1\n",
       "Australia                                    1\n",
       "Italy                                        1\n",
       "Greece                                       1\n",
       "Pakistan                                     1\n",
       "Name: Recipient_Country, dtype: int64"
      ]
     },
     "execution_count": 42,
     "metadata": {},
     "output_type": "execute_result"
    }
   ],
   "source": [
    "print(cms_data.shape)\n",
    "cms_data['Recipient_Country'].value_counts()"
   ]
  },
  {
   "cell_type": "code",
   "execution_count": 43,
   "metadata": {},
   "outputs": [
    {
     "name": "stdout",
     "output_type": "stream",
     "text": [
      "(883158, 14)\n"
     ]
    },
    {
     "data": {
      "text/plain": [
       "Record_ID                                                             0\n",
       "Teaching_Hospital_Name                                           872074\n",
       "Physician_First_Name                                              49727\n",
       "Physician_Last_Name                                               49739\n",
       "Physician_Primary_Type                                                0\n",
       "Recipient_State                                                       0\n",
       "Recipient_Zip_Code                                                    0\n",
       "Recipient_Country                                                     0\n",
       "Physician_Primary_Type                                                0\n",
       "Physician_Specialty                                               50703\n",
       "Applicable_Manufacturer_or_Applicable_GPO_Making_Payment_Name         0\n",
       "Total_Amount_of_Payment_USDollars                                     0\n",
       "Covered_Recipient_Type                                                0\n",
       "Research                                                              0\n",
       "dtype: int64"
      ]
     },
     "execution_count": 43,
     "metadata": {},
     "output_type": "execute_result"
    }
   ],
   "source": [
    "cms_data=cms_data[pd.notnull(cms_data['Recipient_State'])]\n",
    "print(cms_data.shape)\n",
    "cms_data.isnull().sum()"
   ]
  },
  {
   "cell_type": "code",
   "execution_count": 81,
   "metadata": {
    "scrolled": true
   },
   "outputs": [
    {
     "data": {
      "text/plain": [
       "<matplotlib.axes._subplots.AxesSubplot at 0x2300b090160>"
      ]
     },
     "execution_count": 81,
     "metadata": {},
     "output_type": "execute_result"
    },
    {
     "data": {
      "image/png": "[encoded data removed]",
      "text/plain": [
       "<Figure size 1440x360 with 1 Axes>"
      ]
     },
     "metadata": {
      "needs_background": "light"
     },
     "output_type": "display_data"
    }
   ],
   "source": [
    "fig = plt.gcf()\n",
    "fig.set_size_inches(20, 5)\n",
    "sns.countplot(x='Recipient_State',hue='Research',data=cms_data)"
   ]
  },
  {
   "cell_type": "markdown",
   "metadata": {},
   "source": [
    "#### 3.3. Exploration of Type of Payments"
   ]
  },
  {
   "cell_type": "code",
   "execution_count": 45,
   "metadata": {
    "scrolled": true
   },
   "outputs": [
    {
     "data": {
      "text/plain": [
       "<matplotlib.axes._subplots.AxesSubplot at 0x230061e6390>"
      ]
     },
     "execution_count": 45,
     "metadata": {},
     "output_type": "execute_result"
    },
    {
     "data": {
      "image/png": "[encoded data removed]",
      "text/plain": [
       "<Figure size 1440x360 with 1 Axes>"
      ]
     },
     "metadata": {
      "needs_background": "light"
     },
     "output_type": "display_data"
    }
   ],
   "source": [
    "fig = plt.gcf()\n",
    "fig.set_size_inches(20, 5)\n",
    "sns.countplot(x='Covered_Recipient_Type',hue='Research',data=cms_data)"
   ]
  },
  {
   "cell_type": "code",
   "execution_count": 48,
   "metadata": {},
   "outputs": [
    {
     "data": {
      "text/plain": [
       "<matplotlib.axes._subplots.AxesSubplot at 0x23007cc3710>"
      ]
     },
     "execution_count": 48,
     "metadata": {},
     "output_type": "execute_result"
    },
    {
     "data": {
      "image/png": "[encoded data removed]",
      "text/plain": [
       "<Figure size 432x288 with 1 Axes>"
      ]
     },
     "metadata": {
      "needs_background": "light"
     },
     "output_type": "display_data"
    }
   ],
   "source": [
    "sns.countplot(x='Research',hue='Covered_Recipient_Type',data=cms_data)"
   ]
  },
  {
   "cell_type": "code",
   "execution_count": 124,
   "metadata": {},
   "outputs": [
    {
     "data": {
      "text/plain": [
       "<matplotlib.axes._subplots.AxesSubplot at 0x230119788d0>"
      ]
     },
     "execution_count": 124,
     "metadata": {},
     "output_type": "execute_result"
    },
    {
     "data": {
      "image/png": "[encoded data removed]",
      "text/plain": [
       "<Figure size 720x504 with 1 Axes>"
      ]
     },
     "metadata": {
      "needs_background": "light"
     },
     "output_type": "display_data"
    }
   ],
   "source": [
    "plt.figure(figsize=(10,7))\n",
    "sns.boxplot(x='Covered_Recipient_Type',y='Total_Amount_of_Payment_USDollars',data=cms_data)"
   ]
  },
  {
   "cell_type": "markdown",
   "metadata": {},
   "source": [
    "#### 3.4. Feature Engineering"
   ]
  },
  {
   "cell_type": "code",
   "execution_count": 107,
   "metadata": {
    "scrolled": true
   },
   "outputs": [],
   "source": [
    "#Create categorical dummy variables\n",
    "\n",
    "#physicianType_dummy = pd.get_dummies(cms_data['Physician_Primary_Type'])\n",
    "#state_dummy = pd.get_dummies(cms_data['Recipient_State'])\n",
    "paymentType_dummy = pd.get_dummies(cms_data['Covered_Recipient_Type'])"
   ]
  },
  {
   "cell_type": "markdown",
   "metadata": {},
   "source": [
    "<p><a name=\"prediction\"></a></p>\n",
    "\n",
    "## <i>4. Prediction and Results</i>"
   ]
  },
  {
   "cell_type": "markdown",
   "metadata": {},
   "source": [
    "#### 4.1. Logistic Regression"
   ]
  },
  {
   "cell_type": "code",
   "execution_count": 112,
   "metadata": {},
   "outputs": [
    {
     "data": {
      "text/plain": [
       "(883158,)"
      ]
     },
     "execution_count": 112,
     "metadata": {},
     "output_type": "execute_result"
    }
   ],
   "source": [
    "y = np.array(cms_data['Research'])\n",
    "y.shape"
   ]
  },
  {
   "cell_type": "code",
   "execution_count": 113,
   "metadata": {},
   "outputs": [],
   "source": [
    "X = np.array(cms_data[['Total_Amount_of_Payment_USDollars']])"
   ]
  },
  {
   "cell_type": "code",
   "execution_count": 114,
   "metadata": {},
   "outputs": [
    {
     "data": {
      "text/plain": [
       "(883158, 1)"
      ]
     },
     "execution_count": 114,
     "metadata": {},
     "output_type": "execute_result"
    }
   ],
   "source": [
    "X.shape"
   ]
  },
  {
   "cell_type": "code",
   "execution_count": 115,
   "metadata": {},
   "outputs": [
    {
     "data": {
      "text/plain": [
       "(883158, 4)"
      ]
     },
     "execution_count": 115,
     "metadata": {},
     "output_type": "execute_result"
    }
   ],
   "source": [
    "np.hstack([X, paymentType_dummy]).shape"
   ]
  },
  {
   "cell_type": "code",
   "execution_count": 141,
   "metadata": {},
   "outputs": [],
   "source": [
    "#Cross validation to split the data 70% training and %30 testing\n",
    "\n",
    "X_train, X_test, y_train, y_test = model_selection.train_test_split(X, y, test_size=0.3, random_state=42)"
   ]
  },
  {
   "cell_type": "code",
   "execution_count": 142,
   "metadata": {},
   "outputs": [
    {
     "name": "stderr",
     "output_type": "stream",
     "text": [
      "C:\\Users\\s_mas\\Anaconda3\\lib\\site-packages\\sklearn\\linear_model\\logistic.py:433: FutureWarning: Default solver will be changed to 'lbfgs' in 0.22. Specify a solver to silence this warning.\n",
      "  FutureWarning)\n"
     ]
    },
    {
     "data": {
      "text/plain": [
       "0.9477863509163553"
      ]
     },
     "execution_count": 142,
     "metadata": {},
     "output_type": "execute_result"
    }
   ],
   "source": [
    "#Fit model to the training set\n",
    "\n",
    "model = LogisticRegression()\n",
    "model.fit(X_train,y_train)\n",
    "model.score(X_train, y_train)"
   ]
  },
  {
   "cell_type": "code",
   "execution_count": 143,
   "metadata": {},
   "outputs": [
    {
     "name": "stdout",
     "output_type": "stream",
     "text": [
      "              precision    recall  f1-score   support\n",
      "\n",
      "         0.0       0.95      1.00      0.97    250384\n",
      "         1.0       0.87      0.07      0.12     14564\n",
      "\n",
      "   micro avg       0.95      0.95      0.95    264948\n",
      "   macro avg       0.91      0.53      0.55    264948\n",
      "weighted avg       0.94      0.95      0.93    264948\n",
      "\n"
     ]
    }
   ],
   "source": [
    "#Perform prediction\n",
    "\n",
    "prediction = model.predict(X_test)\n",
    "print(classification_report(y_test, prediction))"
   ]
  },
  {
   "cell_type": "code",
   "execution_count": 147,
   "metadata": {
    "scrolled": true
   },
   "outputs": [
    {
     "name": "stdout",
     "output_type": "stream",
     "text": [
      "Train/Test split results:\n",
      "LogisticRegression accuracy is 0.948\n",
      "LogisticRegression log_loss is 0.194\n",
      "LogisticRegression auc is 0.900\n"
     ]
    }
   ],
   "source": [
    "# check classification scores of logistic regression\n",
    "\n",
    "prediction_proba = model.predict_proba(X_test)[:, 1]\n",
    "[fpr, tpr, thr] = roc_curve(y_test, prediction_proba)\n",
    "print('Train/Test split results:')\n",
    "print(model.__class__.__name__+\" accuracy is %2.3f\" % accuracy_score(y_test, prediction))\n",
    "print(model.__class__.__name__+\" log_loss is %2.3f\" % log_loss(y_test, prediction_proba))\n",
    "print(model.__class__.__name__+\" auc is %2.3f\" % auc(fpr, tpr))"
   ]
  },
  {
   "cell_type": "code",
   "execution_count": 150,
   "metadata": {},
   "outputs": [
    {
     "data": {
      "image/png": "[encoded data removed]",
      "text/plain": [
       "<Figure size 432x288 with 1 Axes>"
      ]
     },
     "metadata": {},
     "output_type": "display_data"
    },
    {
     "name": "stdout",
     "output_type": "stream",
     "text": [
      "Using a threshold of 0.049 guarantees a sensitivity of 0.950 and a specificity of 0.363, i.e. a false positive rate of 63.68%.\n"
     ]
    }
   ],
   "source": [
    "idx = np.min(np.where(tpr > 0.95)) # index threshold \n",
    "\n",
    "plt.figure()\n",
    "plt.plot(fpr, tpr, color='coral', label='ROC curve (area = %0.3f)' % auc(fpr, tpr))\n",
    "plt.plot([0, 1], [0, 1], 'k--')\n",
    "plt.plot([0,fpr[idx]], [tpr[idx],tpr[idx]], 'k--', color='blue')\n",
    "plt.plot([fpr[idx],fpr[idx]], [0,tpr[idx]], 'k--', color='blue')\n",
    "plt.xlim([0.0, 1.0])\n",
    "plt.ylim([0.0, 1.05])\n",
    "plt.xlabel('False Positive Rate (1 - specificity)', fontsize=14)\n",
    "plt.ylabel('True Positive Rate (recall)', fontsize=14)\n",
    "plt.title('Receiver operating characteristic (ROC) curve')\n",
    "plt.legend(loc=\"lower right\")\n",
    "plt.show()\n",
    "\n",
    "print(\"Using a threshold of %.3f \" % thr[idx] + \"guarantees a sensitivity of %.3f \" % tpr[idx] +  \n",
    "      \"and a specificity of %.3f\" % (1-fpr[idx]) + \n",
    "      \", i.e. a false positive rate of %.2f%%.\" % (np.array(fpr[idx])*100))"
   ]
  },
  {
   "cell_type": "code",
   "execution_count": 148,
   "metadata": {},
   "outputs": [],
   "source": [
    "RMSE=math.sqrt(mean_squared_error(y_true=y_test,y_pred=prediction))"
   ]
  },
  {
   "cell_type": "code",
   "execution_count": 149,
   "metadata": {},
   "outputs": [
    {
     "name": "stdout",
     "output_type": "stream",
     "text": [
      "0.22765991775207695\n"
     ]
    }
   ],
   "source": [
    "print(RMSE)"
   ]
  },
  {
   "cell_type": "markdown",
   "metadata": {},
   "source": [
    "#### Visualization of the Models using Receiver Characteristic Curve (ROC) for Logistic Regression"
   ]
  },
  {
   "cell_type": "code",
   "execution_count": 72,
   "metadata": {},
   "outputs": [
    {
     "name": "stdout",
     "output_type": "stream",
     "text": [
      "No Skill: ROC AUC=0.500\n",
      "Logistic: ROC AUC=0.900\n"
     ]
    },
    {
     "data": {
      "image/png": "[encoded data removed]",
      "text/plain": [
       "<Figure size 1080x576 with 1 Axes>"
      ]
     },
     "metadata": {
      "needs_background": "light"
     },
     "output_type": "display_data"
    }
   ],
   "source": [
    "# roc curve and auc - generate a no skill prediction (majority class)\n",
    "\n",
    "ns_probs = [0 for _ in range(len(y_test))]\n",
    "\n",
    "# fit a model\n",
    "\n",
    "model = LogisticRegression(solver='lbfgs')\n",
    "model.fit(X_train, y_train)\n",
    "# predict probabilities\n",
    "lr_probs = model.predict_proba(X_test)\n",
    "# keep probabilities for the positive outcome only\n",
    "lr_probs = lr_probs[:, 1]\n",
    "# calculate scores\n",
    "ns_auc = roc_auc_score(y_test, ns_probs)\n",
    "lr_auc = roc_auc_score(y_test, lr_probs)\n",
    "# summarize scores\n",
    "print('No Skill: ROC AUC=%.3f' % (ns_auc))\n",
    "print('Logistic: ROC AUC=%.3f' % (lr_auc))\n",
    "# calculate roc curves\n",
    "ns_fpr, ns_tpr, _ = roc_curve(y_test, ns_probs)\n",
    "lr_fpr, lr_tpr, _ = roc_curve(y_test, lr_probs)\n",
    "# plot the roc curve for the model\n",
    "plt.plot(ns_fpr, ns_tpr, linestyle='--', label='No Skill')\n",
    "plt.plot(lr_fpr, lr_tpr, marker='.', label='Logistic')\n",
    "# axis labels\n",
    "plt.xlabel('False Positive Rate')\n",
    "plt.ylabel('True Positive Rate')\n",
    "# show the legend\n",
    "plt.legend()\n",
    "\n",
    "\n",
    "fig = plt.gcf()\n",
    "fig.set_size_inches(15, 8)\n",
    "\n",
    "# show the plot\n",
    "plt.show()"
   ]
  },
  {
   "cell_type": "markdown",
   "metadata": {},
   "source": [
    "#### 4.2. Decision Tree"
   ]
  },
  {
   "cell_type": "code",
   "execution_count": 63,
   "metadata": {},
   "outputs": [
    {
     "data": {
      "text/plain": [
       "DecisionTreeRegressor(criterion='mse', max_depth=20, max_features=None,\n",
       "           max_leaf_nodes=None, min_impurity_decrease=0.0,\n",
       "           min_impurity_split=None, min_samples_leaf=1,\n",
       "           min_samples_split=2, min_weight_fraction_leaf=0.0,\n",
       "           presort=False, random_state=None, splitter='best')"
      ]
     },
     "execution_count": 63,
     "metadata": {},
     "output_type": "execute_result"
    }
   ],
   "source": [
    "#Decision tree approach (top down)\n",
    "\n",
    "regressor = DecisionTreeRegressor(max_depth=20)\n",
    "regressor.fit(X_train, y_train)"
   ]
  },
  {
   "cell_type": "code",
   "execution_count": 64,
   "metadata": {},
   "outputs": [
    {
     "data": {
      "text/plain": [
       "array([0.08255659, 0.        , 0.99619772, ..., 0.0755814 , 0.01692866,\n",
       "       0.02083333])"
      ]
     },
     "execution_count": 64,
     "metadata": {},
     "output_type": "execute_result"
    }
   ],
   "source": [
    "prediction = regressor.predict(X_test)\n",
    "prediction"
   ]
  },
  {
   "cell_type": "code",
   "execution_count": 65,
   "metadata": {},
   "outputs": [
    {
     "name": "stdout",
     "output_type": "stream",
     "text": [
      "Accuracy of Random forest on test set: 0.384\n"
     ]
    }
   ],
   "source": [
    "print('Accuracy of Random forest on test set: {:.3f}'.format(regressor.score(X_test, y_test)))"
   ]
  },
  {
   "cell_type": "code",
   "execution_count": 41,
   "metadata": {},
   "outputs": [
    {
     "name": "stdout",
     "output_type": "stream",
     "text": [
      "0.218395590040479\n"
     ]
    }
   ],
   "source": [
    "RMSE=math.sqrt(mean_squared_error(y_true = y_test, y_pred = prediction))\n",
    "print(RMSE)"
   ]
  },
  {
   "cell_type": "code",
   "execution_count": 66,
   "metadata": {},
   "outputs": [
    {
     "name": "stdout",
     "output_type": "stream",
     "text": [
      "0.17886039405199913\n"
     ]
    }
   ],
   "source": [
    "RMSE=math.sqrt(mean_squared_error(y_true = y_test, y_pred = prediction))\n",
    "print(RMSE)"
   ]
  },
  {
   "cell_type": "markdown",
   "metadata": {},
   "source": [
    "#### 4.3. Random Forest"
   ]
  },
  {
   "cell_type": "code",
   "execution_count": 67,
   "metadata": {},
   "outputs": [
    {
     "data": {
      "text/plain": [
       "RandomForestClassifier(bootstrap=True, class_weight=None, criterion='gini',\n",
       "            max_depth=2, max_features='auto', max_leaf_nodes=None,\n",
       "            min_impurity_decrease=0.0, min_impurity_split=None,\n",
       "            min_samples_leaf=1, min_samples_split=2,\n",
       "            min_weight_fraction_leaf=0.0, n_estimators=100, n_jobs=None,\n",
       "            oob_score=False, random_state=0, verbose=0, warm_start=False)"
      ]
     },
     "execution_count": 67,
     "metadata": {},
     "output_type": "execute_result"
    }
   ],
   "source": [
    "#from sklearn.datasets import make_classification\n",
    "\n",
    "rfc = RandomForestClassifier(n_estimators=100, max_depth=2, random_state=0)\n",
    "rfc.fit(X_train, y_train)"
   ]
  },
  {
   "cell_type": "code",
   "execution_count": 68,
   "metadata": {},
   "outputs": [
    {
     "name": "stdout",
     "output_type": "stream",
     "text": [
      "Accuracy of Random forest on test set: 0.952\n"
     ]
    }
   ],
   "source": [
    "prediction = rfc.predict(X_test)\n",
    "print('Accuracy of Random forest on test set: {:.3f}'.format(rfc.score(X_test, y_test)))"
   ]
  },
  {
   "cell_type": "code",
   "execution_count": 69,
   "metadata": {},
   "outputs": [
    {
     "name": "stdout",
     "output_type": "stream",
     "text": [
      "0.21859314075431616\n"
     ]
    }
   ],
   "source": [
    "RMSE=math.sqrt(mean_squared_error(y_true = y_test, y_pred = prediction))\n",
    "print(RMSE)"
   ]
  },
  {
   "cell_type": "code",
   "execution_count": null,
   "metadata": {},
   "outputs": [],
   "source": []
  }
 ],
 "metadata": {
  "kernelspec": {
   "display_name": "Python 3",
   "language": "python",
   "name": "python3"
  },
  "language_info": {
   "codemirror_mode": {
    "name": "ipython",
    "version": 3
   },
   "file_extension": ".py",
   "mimetype": "text/x-python",
   "name": "python",
   "nbconvert_exporter": "python",
   "pygments_lexer": "ipython3",
   "version": "3.7.3"
  }
 },
 "nbformat": 4,
 "nbformat_minor": 2
}
